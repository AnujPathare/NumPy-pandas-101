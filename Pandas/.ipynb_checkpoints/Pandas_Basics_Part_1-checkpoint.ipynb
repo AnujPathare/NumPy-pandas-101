{
 "cells": [
  {
   "cell_type": "code",
   "execution_count": 1,
   "id": "764832a8",
   "metadata": {},
   "outputs": [],
   "source": [
    "import pandas as pd"
   ]
  },
  {
   "cell_type": "markdown",
   "id": "c2e5a6ea",
   "metadata": {},
   "source": [
    "# Series"
   ]
  },
  {
   "cell_type": "code",
   "execution_count": 26,
   "id": "69bfb15e",
   "metadata": {},
   "outputs": [
    {
     "name": "stdout",
     "output_type": "stream",
     "text": [
      "a    20\n",
      "b    40\n",
      "c    60\n",
      "d    80\n",
      "dtype: int64\n",
      "<class 'pandas.core.series.Series'>\n",
      "60 \n",
      "\n",
      "101    20\n",
      "102    40\n",
      "103    60\n",
      "104    80\n",
      "dtype: int64\n",
      "<class 'pandas.core.series.Series'>\n",
      "20 \n",
      "\n",
      "0    20.0\n",
      "1    40.0\n",
      "2    60.0\n",
      "3    80.0\n",
      "Name: Series Basics, dtype: float64\n",
      "<class 'pandas.core.series.Series'>\n",
      "60.0 \n",
      "\n"
     ]
    },
    {
     "name": "stderr",
     "output_type": "stream",
     "text": [
      "C:\\Users\\anujp\\AppData\\Local\\Temp\\ipykernel_3600\\3344642622.py:6: FutureWarning: Series.__getitem__ treating keys as positions is deprecated. In a future version, integer keys will always be treated as labels (consistent with DataFrame behavior). To access a value by position, use `ser.iloc[pos]`\n",
      "  print(x[2], '\\n')\n"
     ]
    }
   ],
   "source": [
    "lst = [20,40,60,80]\n",
    "\n",
    "x = pd.Series(lst, index = ['a','b','c','d'])\n",
    "print(x)\n",
    "print(type(x))\n",
    "print(x[2], '\\n')\n",
    "\n",
    "x = pd.Series(lst, index = [101,102,103,104])\n",
    "print(x)\n",
    "print(type(x))\n",
    "print(x[101], '\\n')\n",
    "\n",
    "x = pd.Series(lst, dtype=\"float\", name=\"Series Basics\")\n",
    "print(x)\n",
    "print(type(x))\n",
    "print(x[2], '\\n')"
   ]
  },
  {
   "cell_type": "code",
   "execution_count": 27,
   "id": "10c67f7f",
   "metadata": {},
   "outputs": [
    {
     "name": "stdout",
     "output_type": "stream",
     "text": [
      "name          [Python, Java, C++, Go]\n",
      "popularity          [100, 90, 80, 70]\n",
      "rank                     [1, 4, 2, 3]\n",
      "dtype: object\n"
     ]
    }
   ],
   "source": [
    "record = {\"name\": [\"Python\", \"Java\", \"C++\", \"Go\"], \"popularity\": [100,90,80,70], \"rank\": [1,4,2,3]}\n",
    "\n",
    "var1 = pd.Series(record)\n",
    "print(var1)"
   ]
  },
  {
   "cell_type": "code",
   "execution_count": 31,
   "id": "58713504",
   "metadata": {},
   "outputs": [
    {
     "name": "stdout",
     "output_type": "stream",
     "text": [
      "1    17\n",
      "2    17\n",
      "3    17\n",
      "4    17\n",
      "5    17\n",
      "6    17\n",
      "7    17\n",
      "dtype: int64\n"
     ]
    }
   ],
   "source": [
    "s = pd.Series(17, index=[1,2,3,4,5,6,7])\n",
    "print(s)"
   ]
  },
  {
   "cell_type": "code",
   "execution_count": 33,
   "id": "8222d2e8",
   "metadata": {},
   "outputs": [
    {
     "name": "stdout",
     "output_type": "stream",
     "text": [
      "1    42.0\n",
      "2    42.0\n",
      "3    42.0\n",
      "4    42.0\n",
      "5     NaN\n",
      "6     NaN\n",
      "7     NaN\n",
      "dtype: float64\n"
     ]
    }
   ],
   "source": [
    "s1 = pd.Series(21, index=[1,2,3,4,5,6,7])\n",
    "s2 = pd.Series(21, index=[1,2,3,4])\n",
    "\n",
    "print(s1 + s2)"
   ]
  },
  {
   "cell_type": "markdown",
   "id": "0ccbd3a1",
   "metadata": {},
   "source": [
    "# Dataframe"
   ]
  },
  {
   "cell_type": "code",
   "execution_count": 38,
   "id": "8f5a0fe4",
   "metadata": {},
   "outputs": [
    {
     "name": "stdout",
     "output_type": "stream",
     "text": [
      "    0\n",
      "0  10\n",
      "1  20\n",
      "2  30\n",
      "3  40\n",
      "4  50\n",
      "5  60\n",
      "<class 'pandas.core.frame.DataFrame'>\n"
     ]
    }
   ],
   "source": [
    "lst = [10,20,30,40,50,60]\n",
    "\n",
    "data = pd.DataFrame(lst)\n",
    "print(data)\n",
    "print(type(data))"
   ]
  },
  {
   "cell_type": "code",
   "execution_count": 59,
   "id": "7fb703f4",
   "metadata": {},
   "outputs": [
    {
     "name": "stdout",
     "output_type": "stream",
     "text": [
      "  name phone  1\n",
      "2    A   Yes  1\n",
      "4    B   Yes  2\n",
      "6    C   Yes  3\n",
      "8    D    No  4 \n",
      "\n",
      "2    A\n",
      "4    B\n",
      "6    C\n",
      "8    D\n",
      "Name: name, dtype: object \n",
      "\n",
      "C \n",
      "\n"
     ]
    }
   ],
   "source": [
    "record = {\"name\": [\"A\", \"B\", \"C\", \"D\"], 1:[1,2,3,4], \"age\": [10,20,30,40], \"phone\": ['Yes','Yes','Yes','No']}\n",
    "\n",
    "data = pd.DataFrame(record, columns=['name', 'phone', 1], index=[2,4,6,8])\n",
    "print(data, '\\n')\n",
    "# print(type(data))\n",
    "\n",
    "print(data['name'], '\\n')\n",
    "\n",
    "print(data['name'][6], '\\n')\n",
    "\n",
    "# # Below code will give error since length of each column/series must be equal\n",
    "# record2 = {\"name\": [\"Python\", \"C++\"], \"popularity\": [100,90,80,70], \"rank\": [1,4]}"
   ]
  },
  {
   "cell_type": "code",
   "execution_count": 61,
   "id": "cee5e90a",
   "metadata": {},
   "outputs": [
    {
     "name": "stdout",
     "output_type": "stream",
     "text": [
      "    0   1   2   3    4\n",
      "0   1   2   3   4    5\n",
      "1  60  70  80  90  100\n"
     ]
    }
   ],
   "source": [
    "lst = [[1,2,3,4,5],[60,70,80,90,100]]\n",
    "data = pd.DataFrame(lst)\n",
    "print(data)"
   ]
  },
  {
   "cell_type": "code",
   "execution_count": 68,
   "id": "d4053afc",
   "metadata": {},
   "outputs": [
    {
     "name": "stdout",
     "output_type": "stream",
     "text": [
      "    a   b\n",
      "0  10  50\n",
      "1  20  60\n",
      "2  30  70\n",
      "3  40  80\n",
      "<class 'pandas.core.frame.DataFrame'>\n"
     ]
    }
   ],
   "source": [
    "record = {'a':pd.Series([10,20,30,40]), 'b':pd.Series([50,60,70,80])}\n",
    "x = pd.DataFrame(record)\n",
    "print(x)\n",
    "print(type(x))"
   ]
  },
  {
   "cell_type": "markdown",
   "id": "5238857c",
   "metadata": {},
   "source": [
    "# Arithmetic Operations on Dataframe"
   ]
  },
  {
   "cell_type": "code",
   "execution_count": 88,
   "id": "868cd467",
   "metadata": {},
   "outputs": [
    {
     "name": "stdout",
     "output_type": "stream",
     "text": [
      "   A    B\n",
      "0  1   60\n",
      "1  2   70\n",
      "2  3   80\n",
      "3  4   90\n",
      "4  5  100 \n",
      "\n"
     ]
    },
    {
     "data": {
      "text/html": [
       "<div>\n",
       "<style scoped>\n",
       "    .dataframe tbody tr th:only-of-type {\n",
       "        vertical-align: middle;\n",
       "    }\n",
       "\n",
       "    .dataframe tbody tr th {\n",
       "        vertical-align: top;\n",
       "    }\n",
       "\n",
       "    .dataframe thead th {\n",
       "        text-align: right;\n",
       "    }\n",
       "</style>\n",
       "<table border=\"1\" class=\"dataframe\">\n",
       "  <thead>\n",
       "    <tr style=\"text-align: right;\">\n",
       "      <th></th>\n",
       "      <th>A</th>\n",
       "      <th>B</th>\n",
       "      <th>Sub</th>\n",
       "      <th>Div</th>\n",
       "    </tr>\n",
       "  </thead>\n",
       "  <tbody>\n",
       "    <tr>\n",
       "      <th>0</th>\n",
       "      <td>1</td>\n",
       "      <td>60</td>\n",
       "      <td>-59</td>\n",
       "      <td>0.016667</td>\n",
       "    </tr>\n",
       "    <tr>\n",
       "      <th>1</th>\n",
       "      <td>2</td>\n",
       "      <td>70</td>\n",
       "      <td>-68</td>\n",
       "      <td>0.028571</td>\n",
       "    </tr>\n",
       "    <tr>\n",
       "      <th>2</th>\n",
       "      <td>3</td>\n",
       "      <td>80</td>\n",
       "      <td>-77</td>\n",
       "      <td>0.037500</td>\n",
       "    </tr>\n",
       "    <tr>\n",
       "      <th>3</th>\n",
       "      <td>4</td>\n",
       "      <td>90</td>\n",
       "      <td>-86</td>\n",
       "      <td>0.044444</td>\n",
       "    </tr>\n",
       "    <tr>\n",
       "      <th>4</th>\n",
       "      <td>5</td>\n",
       "      <td>100</td>\n",
       "      <td>-95</td>\n",
       "      <td>0.050000</td>\n",
       "    </tr>\n",
       "  </tbody>\n",
       "</table>\n",
       "</div>"
      ],
      "text/plain": [
       "   A    B  Sub       Div\n",
       "0  1   60  -59  0.016667\n",
       "1  2   70  -68  0.028571\n",
       "2  3   80  -77  0.037500\n",
       "3  4   90  -86  0.044444\n",
       "4  5  100  -95  0.050000"
      ]
     },
     "execution_count": 88,
     "metadata": {},
     "output_type": "execute_result"
    }
   ],
   "source": [
    "record = {\"A\":[1,2,3,4,5], \"B\":[60,70,80,90,100]}\n",
    "data = pd.DataFrame(record)\n",
    "print(data, '\\n')\n",
    "\n",
    "data[\"Sub\"] = data[\"A\"] - data[\"B\"]\n",
    "\n",
    "data[\"Div\"] = data[\"A\"] / data[\"B\"]\n",
    "data"
   ]
  },
  {
   "cell_type": "code",
   "execution_count": 89,
   "id": "5378091c",
   "metadata": {},
   "outputs": [
    {
     "name": "stdout",
     "output_type": "stream",
     "text": [
      "    A    B\n",
      "0  15  101\n",
      "1  16  102\n",
      "2  17  103\n",
      "3  18  104 \n",
      "\n"
     ]
    }
   ],
   "source": [
    "record = {\"A\":[15,16,17,18], \"B\":[101,102,103,104]}\n",
    "data = pd.DataFrame(record)\n",
    "print(data, '\\n')"
   ]
  },
  {
   "cell_type": "code",
   "execution_count": 93,
   "id": "bafa9d2f",
   "metadata": {},
   "outputs": [
    {
     "name": "stdout",
     "output_type": "stream",
     "text": [
      "     A    B  Below Threshold  Below B\n",
      "0   15  101             True    False\n",
      "1   16  102             True    False\n",
      "2  170  103            False     True\n",
      "3   18  104            False    False \n",
      "\n"
     ]
    }
   ],
   "source": [
    "record = {\"A\":[15,16,170,18], \"B\":[101,102,103,104]}\n",
    "data = pd.DataFrame(record)\n",
    "\n",
    "data[\"Below Threshold\"] = data[\"A\"] <= 16\n",
    "\n",
    "data[\"Below B\"] = data[\"A\"] > data[\"B\"]\n",
    "\n",
    "print(data, '\\n')"
   ]
  },
  {
   "cell_type": "markdown",
   "id": "228552fc",
   "metadata": {},
   "source": [
    "# Inserting data"
   ]
  },
  {
   "cell_type": "code",
   "execution_count": 120,
   "id": "108481c6",
   "metadata": {},
   "outputs": [
    {
     "data": {
      "text/html": [
       "<div>\n",
       "<style scoped>\n",
       "    .dataframe tbody tr th:only-of-type {\n",
       "        vertical-align: middle;\n",
       "    }\n",
       "\n",
       "    .dataframe tbody tr th {\n",
       "        vertical-align: top;\n",
       "    }\n",
       "\n",
       "    .dataframe thead th {\n",
       "        text-align: right;\n",
       "    }\n",
       "</style>\n",
       "<table border=\"1\" class=\"dataframe\">\n",
       "  <thead>\n",
       "    <tr style=\"text-align: right;\">\n",
       "      <th></th>\n",
       "      <th>A</th>\n",
       "      <th>B</th>\n",
       "      <th>C</th>\n",
       "    </tr>\n",
       "  </thead>\n",
       "  <tbody>\n",
       "    <tr>\n",
       "      <th>0</th>\n",
       "      <td>1</td>\n",
       "      <td>20</td>\n",
       "      <td>9</td>\n",
       "    </tr>\n",
       "    <tr>\n",
       "      <th>1</th>\n",
       "      <td>2</td>\n",
       "      <td>40</td>\n",
       "      <td>8</td>\n",
       "    </tr>\n",
       "    <tr>\n",
       "      <th>2</th>\n",
       "      <td>3</td>\n",
       "      <td>60</td>\n",
       "      <td>7</td>\n",
       "    </tr>\n",
       "    <tr>\n",
       "      <th>3</th>\n",
       "      <td>4</td>\n",
       "      <td>80</td>\n",
       "      <td>6</td>\n",
       "    </tr>\n",
       "    <tr>\n",
       "      <th>4</th>\n",
       "      <td>5</td>\n",
       "      <td>100</td>\n",
       "      <td>5</td>\n",
       "    </tr>\n",
       "  </tbody>\n",
       "</table>\n",
       "</div>"
      ],
      "text/plain": [
       "   A    B  C\n",
       "0  1   20  9\n",
       "1  2   40  8\n",
       "2  3   60  7\n",
       "3  4   80  6\n",
       "4  5  100  5"
      ]
     },
     "execution_count": 120,
     "metadata": {},
     "output_type": "execute_result"
    }
   ],
   "source": [
    "record = {\"A\":[1,2,3,4,5], \"B\":[20,40,60,80,100], \"C\":[9,8,7,6,5]}\n",
    "data = pd.DataFrame(record)\n",
    "data"
   ]
  },
  {
   "cell_type": "code",
   "execution_count": 121,
   "id": "459fc743",
   "metadata": {},
   "outputs": [
    {
     "data": {
      "text/html": [
       "<div>\n",
       "<style scoped>\n",
       "    .dataframe tbody tr th:only-of-type {\n",
       "        vertical-align: middle;\n",
       "    }\n",
       "\n",
       "    .dataframe tbody tr th {\n",
       "        vertical-align: top;\n",
       "    }\n",
       "\n",
       "    .dataframe thead th {\n",
       "        text-align: right;\n",
       "    }\n",
       "</style>\n",
       "<table border=\"1\" class=\"dataframe\">\n",
       "  <thead>\n",
       "    <tr style=\"text-align: right;\">\n",
       "      <th></th>\n",
       "      <th>A</th>\n",
       "      <th>B</th>\n",
       "      <th>Test</th>\n",
       "      <th>C</th>\n",
       "    </tr>\n",
       "  </thead>\n",
       "  <tbody>\n",
       "    <tr>\n",
       "      <th>0</th>\n",
       "      <td>1</td>\n",
       "      <td>20</td>\n",
       "      <td>1</td>\n",
       "      <td>9</td>\n",
       "    </tr>\n",
       "    <tr>\n",
       "      <th>1</th>\n",
       "      <td>2</td>\n",
       "      <td>40</td>\n",
       "      <td>2</td>\n",
       "      <td>8</td>\n",
       "    </tr>\n",
       "    <tr>\n",
       "      <th>2</th>\n",
       "      <td>3</td>\n",
       "      <td>60</td>\n",
       "      <td>3</td>\n",
       "      <td>7</td>\n",
       "    </tr>\n",
       "    <tr>\n",
       "      <th>3</th>\n",
       "      <td>4</td>\n",
       "      <td>80</td>\n",
       "      <td>4</td>\n",
       "      <td>6</td>\n",
       "    </tr>\n",
       "    <tr>\n",
       "      <th>4</th>\n",
       "      <td>5</td>\n",
       "      <td>100</td>\n",
       "      <td>5</td>\n",
       "      <td>5</td>\n",
       "    </tr>\n",
       "  </tbody>\n",
       "</table>\n",
       "</div>"
      ],
      "text/plain": [
       "   A    B  Test  C\n",
       "0  1   20     1  9\n",
       "1  2   40     2  8\n",
       "2  3   60     3  7\n",
       "3  4   80     4  6\n",
       "4  5  100     5  5"
      ]
     },
     "execution_count": 121,
     "metadata": {},
     "output_type": "execute_result"
    }
   ],
   "source": [
    "data.insert(2, \"Test\", data[\"A\"])\n",
    "data"
   ]
  },
  {
   "cell_type": "code",
   "execution_count": 122,
   "id": "412aa175",
   "metadata": {},
   "outputs": [
    {
     "data": {
      "text/html": [
       "<div>\n",
       "<style scoped>\n",
       "    .dataframe tbody tr th:only-of-type {\n",
       "        vertical-align: middle;\n",
       "    }\n",
       "\n",
       "    .dataframe tbody tr th {\n",
       "        vertical-align: top;\n",
       "    }\n",
       "\n",
       "    .dataframe thead th {\n",
       "        text-align: right;\n",
       "    }\n",
       "</style>\n",
       "<table border=\"1\" class=\"dataframe\">\n",
       "  <thead>\n",
       "    <tr style=\"text-align: right;\">\n",
       "      <th></th>\n",
       "      <th>A</th>\n",
       "      <th>New</th>\n",
       "      <th>B</th>\n",
       "      <th>Test</th>\n",
       "      <th>C</th>\n",
       "    </tr>\n",
       "  </thead>\n",
       "  <tbody>\n",
       "    <tr>\n",
       "      <th>0</th>\n",
       "      <td>1</td>\n",
       "      <td>21</td>\n",
       "      <td>20</td>\n",
       "      <td>1</td>\n",
       "      <td>9</td>\n",
       "    </tr>\n",
       "    <tr>\n",
       "      <th>1</th>\n",
       "      <td>2</td>\n",
       "      <td>31</td>\n",
       "      <td>40</td>\n",
       "      <td>2</td>\n",
       "      <td>8</td>\n",
       "    </tr>\n",
       "    <tr>\n",
       "      <th>2</th>\n",
       "      <td>3</td>\n",
       "      <td>41</td>\n",
       "      <td>60</td>\n",
       "      <td>3</td>\n",
       "      <td>7</td>\n",
       "    </tr>\n",
       "    <tr>\n",
       "      <th>3</th>\n",
       "      <td>4</td>\n",
       "      <td>51</td>\n",
       "      <td>80</td>\n",
       "      <td>4</td>\n",
       "      <td>6</td>\n",
       "    </tr>\n",
       "    <tr>\n",
       "      <th>4</th>\n",
       "      <td>5</td>\n",
       "      <td>61</td>\n",
       "      <td>100</td>\n",
       "      <td>5</td>\n",
       "      <td>5</td>\n",
       "    </tr>\n",
       "  </tbody>\n",
       "</table>\n",
       "</div>"
      ],
      "text/plain": [
       "   A  New    B  Test  C\n",
       "0  1   21   20     1  9\n",
       "1  2   31   40     2  8\n",
       "2  3   41   60     3  7\n",
       "3  4   51   80     4  6\n",
       "4  5   61  100     5  5"
      ]
     },
     "execution_count": 122,
     "metadata": {},
     "output_type": "execute_result"
    }
   ],
   "source": [
    "data.insert(1, \"New\", [21,31,41,51,61])\n",
    "data"
   ]
  },
  {
   "cell_type": "code",
   "execution_count": 123,
   "id": "7c7e7f94",
   "metadata": {},
   "outputs": [
    {
     "data": {
      "text/html": [
       "<div>\n",
       "<style scoped>\n",
       "    .dataframe tbody tr th:only-of-type {\n",
       "        vertical-align: middle;\n",
       "    }\n",
       "\n",
       "    .dataframe tbody tr th {\n",
       "        vertical-align: top;\n",
       "    }\n",
       "\n",
       "    .dataframe thead th {\n",
       "        text-align: right;\n",
       "    }\n",
       "</style>\n",
       "<table border=\"1\" class=\"dataframe\">\n",
       "  <thead>\n",
       "    <tr style=\"text-align: right;\">\n",
       "      <th></th>\n",
       "      <th>A</th>\n",
       "      <th>B</th>\n",
       "      <th>C</th>\n",
       "      <th>New</th>\n",
       "    </tr>\n",
       "  </thead>\n",
       "  <tbody>\n",
       "    <tr>\n",
       "      <th>0</th>\n",
       "      <td>1</td>\n",
       "      <td>20</td>\n",
       "      <td>9</td>\n",
       "      <td>NaN</td>\n",
       "    </tr>\n",
       "    <tr>\n",
       "      <th>1</th>\n",
       "      <td>2</td>\n",
       "      <td>40</td>\n",
       "      <td>8</td>\n",
       "      <td>40.0</td>\n",
       "    </tr>\n",
       "    <tr>\n",
       "      <th>2</th>\n",
       "      <td>3</td>\n",
       "      <td>60</td>\n",
       "      <td>7</td>\n",
       "      <td>60.0</td>\n",
       "    </tr>\n",
       "    <tr>\n",
       "      <th>3</th>\n",
       "      <td>4</td>\n",
       "      <td>80</td>\n",
       "      <td>6</td>\n",
       "      <td>80.0</td>\n",
       "    </tr>\n",
       "    <tr>\n",
       "      <th>4</th>\n",
       "      <td>5</td>\n",
       "      <td>100</td>\n",
       "      <td>5</td>\n",
       "      <td>NaN</td>\n",
       "    </tr>\n",
       "  </tbody>\n",
       "</table>\n",
       "</div>"
      ],
      "text/plain": [
       "   A    B  C   New\n",
       "0  1   20  9   NaN\n",
       "1  2   40  8  40.0\n",
       "2  3   60  7  60.0\n",
       "3  4   80  6  80.0\n",
       "4  5  100  5   NaN"
      ]
     },
     "execution_count": 123,
     "metadata": {},
     "output_type": "execute_result"
    }
   ],
   "source": [
    "record = {\"A\":[1,2,3,4,5], \"B\":[20,40,60,80,100], \"C\":[9,8,7,6,5]}\n",
    "data = pd.DataFrame(record)\n",
    "\n",
    "data[\"New\"] = data[\"B\"][1:4]\n",
    "data"
   ]
  },
  {
   "cell_type": "markdown",
   "id": "72488d7b",
   "metadata": {},
   "source": [
    "# Deleting data"
   ]
  },
  {
   "cell_type": "code",
   "execution_count": 124,
   "id": "db4785bf",
   "metadata": {},
   "outputs": [
    {
     "data": {
      "text/html": [
       "<div>\n",
       "<style scoped>\n",
       "    .dataframe tbody tr th:only-of-type {\n",
       "        vertical-align: middle;\n",
       "    }\n",
       "\n",
       "    .dataframe tbody tr th {\n",
       "        vertical-align: top;\n",
       "    }\n",
       "\n",
       "    .dataframe thead th {\n",
       "        text-align: right;\n",
       "    }\n",
       "</style>\n",
       "<table border=\"1\" class=\"dataframe\">\n",
       "  <thead>\n",
       "    <tr style=\"text-align: right;\">\n",
       "      <th></th>\n",
       "      <th>A</th>\n",
       "      <th>C</th>\n",
       "      <th>New</th>\n",
       "    </tr>\n",
       "  </thead>\n",
       "  <tbody>\n",
       "    <tr>\n",
       "      <th>0</th>\n",
       "      <td>1</td>\n",
       "      <td>9</td>\n",
       "      <td>NaN</td>\n",
       "    </tr>\n",
       "    <tr>\n",
       "      <th>1</th>\n",
       "      <td>2</td>\n",
       "      <td>8</td>\n",
       "      <td>40.0</td>\n",
       "    </tr>\n",
       "    <tr>\n",
       "      <th>2</th>\n",
       "      <td>3</td>\n",
       "      <td>7</td>\n",
       "      <td>60.0</td>\n",
       "    </tr>\n",
       "    <tr>\n",
       "      <th>3</th>\n",
       "      <td>4</td>\n",
       "      <td>6</td>\n",
       "      <td>80.0</td>\n",
       "    </tr>\n",
       "    <tr>\n",
       "      <th>4</th>\n",
       "      <td>5</td>\n",
       "      <td>5</td>\n",
       "      <td>NaN</td>\n",
       "    </tr>\n",
       "  </tbody>\n",
       "</table>\n",
       "</div>"
      ],
      "text/plain": [
       "   A  C   New\n",
       "0  1  9   NaN\n",
       "1  2  8  40.0\n",
       "2  3  7  60.0\n",
       "3  4  6  80.0\n",
       "4  5  5   NaN"
      ]
     },
     "execution_count": 124,
     "metadata": {},
     "output_type": "execute_result"
    }
   ],
   "source": [
    "data.pop(\"B\")\n",
    "data"
   ]
  },
  {
   "cell_type": "code",
   "execution_count": 126,
   "id": "4779b67e",
   "metadata": {},
   "outputs": [
    {
     "data": {
      "text/html": [
       "<div>\n",
       "<style scoped>\n",
       "    .dataframe tbody tr th:only-of-type {\n",
       "        vertical-align: middle;\n",
       "    }\n",
       "\n",
       "    .dataframe tbody tr th {\n",
       "        vertical-align: top;\n",
       "    }\n",
       "\n",
       "    .dataframe thead th {\n",
       "        text-align: right;\n",
       "    }\n",
       "</style>\n",
       "<table border=\"1\" class=\"dataframe\">\n",
       "  <thead>\n",
       "    <tr style=\"text-align: right;\">\n",
       "      <th></th>\n",
       "      <th>A</th>\n",
       "      <th>New</th>\n",
       "    </tr>\n",
       "  </thead>\n",
       "  <tbody>\n",
       "    <tr>\n",
       "      <th>0</th>\n",
       "      <td>1</td>\n",
       "      <td>NaN</td>\n",
       "    </tr>\n",
       "    <tr>\n",
       "      <th>1</th>\n",
       "      <td>2</td>\n",
       "      <td>40.0</td>\n",
       "    </tr>\n",
       "    <tr>\n",
       "      <th>2</th>\n",
       "      <td>3</td>\n",
       "      <td>60.0</td>\n",
       "    </tr>\n",
       "    <tr>\n",
       "      <th>3</th>\n",
       "      <td>4</td>\n",
       "      <td>80.0</td>\n",
       "    </tr>\n",
       "    <tr>\n",
       "      <th>4</th>\n",
       "      <td>5</td>\n",
       "      <td>NaN</td>\n",
       "    </tr>\n",
       "  </tbody>\n",
       "</table>\n",
       "</div>"
      ],
      "text/plain": [
       "   A   New\n",
       "0  1   NaN\n",
       "1  2  40.0\n",
       "2  3  60.0\n",
       "3  4  80.0\n",
       "4  5   NaN"
      ]
     },
     "execution_count": 126,
     "metadata": {},
     "output_type": "execute_result"
    }
   ],
   "source": [
    "del data[\"C\"]\n",
    "data"
   ]
  },
  {
   "cell_type": "code",
   "execution_count": null,
   "id": "9199eb8f",
   "metadata": {},
   "outputs": [],
   "source": []
  }
 ],
 "metadata": {
  "kernelspec": {
   "display_name": "Python 3 (ipykernel)",
   "language": "python",
   "name": "python3"
  },
  "language_info": {
   "codemirror_mode": {
    "name": "ipython",
    "version": 3
   },
   "file_extension": ".py",
   "mimetype": "text/x-python",
   "name": "python",
   "nbconvert_exporter": "python",
   "pygments_lexer": "ipython3",
   "version": "3.11.4"
  }
 },
 "nbformat": 4,
 "nbformat_minor": 5
}
