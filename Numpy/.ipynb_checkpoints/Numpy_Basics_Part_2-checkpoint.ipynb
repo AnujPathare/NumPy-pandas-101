{
 "cells": [
  {
   "cell_type": "code",
   "execution_count": 1,
   "id": "0d9f53f4",
   "metadata": {},
   "outputs": [],
   "source": [
    "import numpy as np"
   ]
  },
  {
   "cell_type": "markdown",
   "id": "259804b3",
   "metadata": {},
   "source": [
    "# Shape"
   ]
  },
  {
   "cell_type": "code",
   "execution_count": 5,
   "id": "460f46e1",
   "metadata": {},
   "outputs": [
    {
     "name": "stdout",
     "output_type": "stream",
     "text": [
      "[[8 7 6 5]\n",
      " [4 3 2 1]] \n",
      "\n",
      "(2, 4)\n"
     ]
    }
   ],
   "source": [
    "var = np.array([[8,7,6,5], [4,3,2,1,]])\n",
    "\n",
    "print(var, '\\n')\n",
    "print(var.shape)"
   ]
  },
  {
   "cell_type": "code",
   "execution_count": 10,
   "id": "bd258cca",
   "metadata": {},
   "outputs": [
    {
     "name": "stdout",
     "output_type": "stream",
     "text": [
      "[[[[[4 3 2 1]]]]] \n",
      "\n",
      "5 \n",
      "\n",
      "(1, 1, 1, 1, 4)\n"
     ]
    }
   ],
   "source": [
    "var1 = np.array([4,3,2,1], ndmin=5) # Create a numpy array with 5 dimensions\n",
    "\n",
    "print(var1, '\\n')\n",
    "print(var1.ndim, '\\n') # Check dimensions of numpy array\n",
    "print(var1.shape)"
   ]
  },
  {
   "cell_type": "markdown",
   "id": "b8ee3d33",
   "metadata": {},
   "source": [
    "# Reshape"
   ]
  },
  {
   "cell_type": "code",
   "execution_count": 34,
   "id": "567161ec",
   "metadata": {},
   "outputs": [
    {
     "name": "stdout",
     "output_type": "stream",
     "text": [
      "[1 2 3 4 5 6] \n",
      "\n",
      "[[1 2]\n",
      " [3 4]\n",
      " [5 6]]\n",
      "2 \n",
      "\n",
      "[[1 2 3]\n",
      " [4 5 6]]\n",
      "2 \n",
      "\n",
      "[[1 2 3]\n",
      " [4 5 6]\n",
      " [7 8 9]]\n",
      "2 \n",
      "\n"
     ]
    }
   ],
   "source": [
    "var2 = np.array([1,2,3,4,5,6])\n",
    "print(var2, '\\n')\n",
    "\n",
    "x = var2.reshape(3, 2)\n",
    "print(x)\n",
    "print(x.ndim, '\\n')\n",
    "\n",
    "y = var2.reshape(2, 3)\n",
    "print(y)\n",
    "print(y.ndim, '\\n')\n",
    "\n",
    "# z = var2.reshape(3,3) # Will raise error\n",
    "var3 = np.array([1,2,3,4,5,6,7,8,9])\n",
    "z = var3.reshape(3,3)\n",
    "print(z)\n",
    "print(z.ndim, '\\n')"
   ]
  },
  {
   "cell_type": "code",
   "execution_count": 49,
   "id": "29d807d8",
   "metadata": {},
   "outputs": [
    {
     "name": "stdout",
     "output_type": "stream",
     "text": [
      "[[[ 1  2  3  4]\n",
      "  [ 5  6  7  8]]\n",
      "\n",
      " [[ 9 10 11 12]\n",
      "  [13 14 15 16]]\n",
      "\n",
      " [[17 18 19 20]\n",
      "  [21 22 23 24]]]\n",
      "3 \n",
      "\n",
      "[ 1  2  3  4  5  6  7  8  9 10 11 12 13 14 15 16 17 18 19 20 21 22 23 24]\n",
      "1 \n",
      "\n"
     ]
    }
   ],
   "source": [
    "var4 = np.arange(1,25)\n",
    "\n",
    "x1 = var4.reshape(3,2,4) # Reshape to 3-D numpy array\n",
    "print(x1)\n",
    "print(x1.ndim, '\\n')\n",
    "\n",
    "x1_1d = var4.reshape(-1) # Reshape N-D array to 1-D numpy array\n",
    "print(x1_1d)\n",
    "print(x1_1d.ndim, '\\n')"
   ]
  },
  {
   "cell_type": "markdown",
   "id": "ce22e3ef",
   "metadata": {},
   "source": [
    "# Broadcasting with NumPy Arrays\n",
    "\n",
    "- Simple Rule:\n",
    "    - Compare shapes of both arrays from right to left\n",
    "    - Will work if each shape of both arrays in the current comparison are:\n",
    "        1. Both same\n",
    "        2. Either of the shape is 1\n",
    "      - Example:\n",
    "        - arr1 = (1, 3)\n",
    "        - arr2 = (3, 1)\n",
    "        - This will work\n",
    "        <br>\n",
    "       \n",
    "        - arr3 = (2, 4)\n",
    "        - arr4 = (4, 4)\n",
    "        - This won't work since:\n",
    "            - As we go from right to left:\n",
    "                - First comparison: we get 4 == 4\n",
    "                - Second comparison, 2 != 4.\n",
    "            - Hence, we will get an error."
   ]
  },
  {
   "cell_type": "code",
   "execution_count": 52,
   "id": "cce8c2b4",
   "metadata": {},
   "outputs": [
    {
     "ename": "ValueError",
     "evalue": "operands could not be broadcast together with shapes (4,) (3,) ",
     "output_type": "error",
     "traceback": [
      "\u001b[1;31m---------------------------------------------------------------------------\u001b[0m",
      "\u001b[1;31mValueError\u001b[0m                                Traceback (most recent call last)",
      "Cell \u001b[1;32mIn[52], line 3\u001b[0m\n\u001b[0;32m      1\u001b[0m arr1 \u001b[38;5;241m=\u001b[39m np\u001b[38;5;241m.\u001b[39marray([\u001b[38;5;241m1\u001b[39m,\u001b[38;5;241m2\u001b[39m,\u001b[38;5;241m3\u001b[39m,\u001b[38;5;241m4\u001b[39m])\n\u001b[0;32m      2\u001b[0m arr2 \u001b[38;5;241m=\u001b[39m np\u001b[38;5;241m.\u001b[39marray([\u001b[38;5;241m5\u001b[39m,\u001b[38;5;241m6\u001b[39m,\u001b[38;5;241m7\u001b[39m])\n\u001b[1;32m----> 3\u001b[0m \u001b[38;5;28mprint\u001b[39m(\u001b[43marr1\u001b[49m\u001b[43m \u001b[49m\u001b[38;5;241;43m+\u001b[39;49m\u001b[43m \u001b[49m\u001b[43marr2\u001b[49m) \u001b[38;5;66;03m# Error: could not be broadcast together\u001b[39;00m\n",
      "\u001b[1;31mValueError\u001b[0m: operands could not be broadcast together with shapes (4,) (3,) "
     ]
    }
   ],
   "source": [
    "arr1 = np.array([1,2,3,4])\n",
    "arr2 = np.array([5,6,7])\n",
    "print(arr1 + arr2) # Error: could not be broadcast together"
   ]
  },
  {
   "cell_type": "code",
   "execution_count": 65,
   "id": "9a971cee",
   "metadata": {},
   "outputs": [
    {
     "name": "stdout",
     "output_type": "stream",
     "text": [
      "arr1 shape: (4,)\n",
      "[1 2 3 4] \n",
      "\n",
      "arr2 shape: (5, 1)\n",
      "[[5]\n",
      " [6]\n",
      " [7]\n",
      " [8]\n",
      " [9]] \n",
      "\n",
      "arr1 + arr2 shape: (5, 4)\n",
      "[[ 6  7  8  9]\n",
      " [ 7  8  9 10]\n",
      " [ 8  9 10 11]\n",
      " [ 9 10 11 12]\n",
      " [10 11 12 13]]\n"
     ]
    }
   ],
   "source": [
    "arr1 = np.array([1,2,3,4])\n",
    "arr2 = np.array([[5], [6], [7], [8], [9]])\n",
    "\n",
    "print('arr1 shape:', arr1.shape) # (1x4)\n",
    "print(arr1, '\\n')\n",
    "print('arr2 shape:', arr2.shape) # (5x1)\n",
    "print(arr2, '\\n')\n",
    "print('arr1 + arr2 shape:', (arr1 + arr2).shape) # (5x1)\n",
    "print(arr1 + arr2)"
   ]
  },
  {
   "cell_type": "code",
   "execution_count": 67,
   "id": "41a754d3",
   "metadata": {},
   "outputs": [
    {
     "name": "stdout",
     "output_type": "stream",
     "text": [
      "arr3 shape: (2, 2)\n",
      "[[1 2]\n",
      " [3 4]] \n",
      "\n",
      "arr4 shape: (2, 4)\n",
      "[[ 5  6  7  8]\n",
      " [ 9 10 11 12]] \n",
      "\n"
     ]
    },
    {
     "ename": "ValueError",
     "evalue": "operands could not be broadcast together with shapes (2,2) (2,4) ",
     "output_type": "error",
     "traceback": [
      "\u001b[1;31m---------------------------------------------------------------------------\u001b[0m",
      "\u001b[1;31mValueError\u001b[0m                                Traceback (most recent call last)",
      "Cell \u001b[1;32mIn[67], line 8\u001b[0m\n\u001b[0;32m      6\u001b[0m \u001b[38;5;28mprint\u001b[39m(\u001b[38;5;124m'\u001b[39m\u001b[38;5;124marr4 shape:\u001b[39m\u001b[38;5;124m'\u001b[39m, arr4\u001b[38;5;241m.\u001b[39mshape) \u001b[38;5;66;03m# (2x4)\u001b[39;00m\n\u001b[0;32m      7\u001b[0m \u001b[38;5;28mprint\u001b[39m(arr4, \u001b[38;5;124m'\u001b[39m\u001b[38;5;130;01m\\n\u001b[39;00m\u001b[38;5;124m'\u001b[39m)\n\u001b[1;32m----> 8\u001b[0m \u001b[38;5;28mprint\u001b[39m(\u001b[38;5;124m'\u001b[39m\u001b[38;5;124marr3 + arr4 shape:\u001b[39m\u001b[38;5;124m'\u001b[39m, (\u001b[43marr3\u001b[49m\u001b[43m \u001b[49m\u001b[38;5;241;43m+\u001b[39;49m\u001b[43m \u001b[49m\u001b[43marr4\u001b[49m)\u001b[38;5;241m.\u001b[39mshape) \u001b[38;5;66;03m# Error: could not be broadcast together with shapes (2,2) (2,4) \u001b[39;00m\n\u001b[0;32m      9\u001b[0m \u001b[38;5;28mprint\u001b[39m(arr3 \u001b[38;5;241m+\u001b[39m arr4)\n",
      "\u001b[1;31mValueError\u001b[0m: operands could not be broadcast together with shapes (2,2) (2,4) "
     ]
    }
   ],
   "source": [
    "arr3 = np.array([[1,2],[3,4]])\n",
    "arr4 = np.array([[5,6,7,8], [9,10,11,12]])\n",
    "\n",
    "print('arr3 shape:', arr3.shape) # (2x2)\n",
    "print(arr3, '\\n')\n",
    "print('arr4 shape:', arr4.shape) # (2x4)\n",
    "print(arr4, '\\n')\n",
    "print('arr3 + arr4 shape:', (arr3 + arr4).shape) # Error: could not be broadcast together with shapes (2,2) (2,4) \n",
    "print(arr3 + arr4)"
   ]
  },
  {
   "cell_type": "code",
   "execution_count": 71,
   "id": "7d601a3a",
   "metadata": {},
   "outputs": [
    {
     "name": "stdout",
     "output_type": "stream",
     "text": [
      "arr3 shape: (2, 3)\n",
      "[[1 2 3]\n",
      " [4 5 6]] \n",
      "\n",
      "arr4 shape: (2, 1)\n",
      "[[7]\n",
      " [8]] \n",
      "\n",
      "arr3 + arr4 shape: (2, 3)\n",
      "[[ 8  9 10]\n",
      " [12 13 14]]\n"
     ]
    }
   ],
   "source": [
    "arr3 = np.array([[1,2,3],[4,5,6]])\n",
    "arr4 = np.array([[7], [8]])\n",
    "\n",
    "print('arr3 shape:', arr3.shape) # (2x3)\n",
    "print(arr3, '\\n')\n",
    "print('arr4 shape:', arr4.shape) # (2x1)\n",
    "print(arr4, '\\n')\n",
    "print('arr3 + arr4 shape:', (arr3 + arr4).shape) # (2x3)\n",
    "print(arr3 + arr4)"
   ]
  },
  {
   "cell_type": "markdown",
   "id": "652727d6",
   "metadata": {},
   "source": [
    "# Indexing and Slicing in NumPy Array"
   ]
  },
  {
   "cell_type": "markdown",
   "id": "9e1976bf",
   "metadata": {},
   "source": [
    "## Indexing"
   ]
  },
  {
   "cell_type": "code",
   "execution_count": 77,
   "id": "21cd0134",
   "metadata": {},
   "outputs": [
    {
     "name": "stdout",
     "output_type": "stream",
     "text": [
      "8 8\n"
     ]
    }
   ],
   "source": [
    "var1 = np.array([2,4,6,8])\n",
    "print(var1[3], var1[-1])"
   ]
  },
  {
   "cell_type": "code",
   "execution_count": 95,
   "id": "a94b1006",
   "metadata": {},
   "outputs": [
    {
     "name": "stdout",
     "output_type": "stream",
     "text": [
      "Dimensions: 2 \n",
      "\n",
      "20\n",
      "80\n"
     ]
    }
   ],
   "source": [
    "var2 = np.array([[10,20,30,40], [50,60,70,80]])\n",
    "print('Dimensions:', var2.ndim, '\\n')\n",
    "print(var2[0,1])\n",
    "print(var2[1,3])"
   ]
  },
  {
   "cell_type": "code",
   "execution_count": 96,
   "id": "bba7a208",
   "metadata": {},
   "outputs": [
    {
     "name": "stdout",
     "output_type": "stream",
     "text": [
      "Dimensions: 3 \n",
      "\n",
      "[50 60 70 80]\n",
      "[ 95 105 115 125]\n",
      "\n",
      "100\n",
      "35\n"
     ]
    }
   ],
   "source": [
    "var3 = np.array([[[10,20,30,40], [50,60,70,80], [90,100,110,120]], [[15,25,35,45], [55,65,75,85], [95,105,115,125]]])\n",
    "print('Dimensions:', var3.ndim, '\\n')\n",
    "\n",
    "print(var3[0,1])\n",
    "print(var3[1,2])\n",
    "print()\n",
    "print(var3[0,2,1])\n",
    "print(var3[1,0,2])"
   ]
  },
  {
   "cell_type": "markdown",
   "id": "3e421836",
   "metadata": {},
   "source": [
    "## Slicing"
   ]
  },
  {
   "cell_type": "code",
   "execution_count": 111,
   "id": "236b0731",
   "metadata": {},
   "outputs": [
    {
     "name": "stdout",
     "output_type": "stream",
     "text": [
      "Dimensions: 1 \n",
      "\n",
      "[100 200]\n",
      "[200 300 400]\n",
      "[1000  900  800  700  600  500  400  300  200  100]\n",
      "[300 500 700 900]\n",
      "[ 600  700  800  900 1000]\n"
     ]
    }
   ],
   "source": [
    "var1 = np.array([100,200,300,400,500,600,700,800,900,1000])\n",
    "print('Dimensions:', var1.ndim, '\\n')\n",
    "\n",
    "print(var1[:2])\n",
    "print(var1[1:4])\n",
    "print(var1[::-1])\n",
    "print(var1[2:10:2])\n",
    "print(var1[5:])"
   ]
  },
  {
   "cell_type": "code",
   "execution_count": 121,
   "id": "f20f6ddc",
   "metadata": {},
   "outputs": [
    {
     "name": "stdout",
     "output_type": "stream",
     "text": [
      "Dimensions: 3 \n",
      "\n",
      "[50 60]\n",
      "[105 115]\n",
      "\n",
      " [[ 50  60  70  80]\n",
      " [ 90 100 110 120]]\n"
     ]
    }
   ],
   "source": [
    "var2 = np.array([[[10,20,30,40], [50,60,70,80], [90,100,110,120]], [[15,25,35,45], [55,65,75,85], [95,105,115,125]]])\n",
    "print('Dimensions:', var2.ndim, '\\n')\n",
    "\n",
    "print(var2[0,1][:2])\n",
    "print(var2[1,2][1:3])\n",
    "print('\\n', var2[0,1:])"
   ]
  },
  {
   "cell_type": "code",
   "execution_count": 115,
   "id": "bd06954a",
   "metadata": {},
   "outputs": [
    {
     "name": "stdout",
     "output_type": "stream",
     "text": [
      "[ 1  2  3  4  5  6  7  8  9 10 11 12 13 14 15 16 17 18 19 20]\n",
      "[13 14 15 16 17]\n"
     ]
    }
   ],
   "source": [
    "var3 = np.arange(1,21)\n",
    "print(var3)\n",
    "print(var3[-8:17:1])"
   ]
  },
  {
   "cell_type": "markdown",
   "id": "dd8bf4b8",
   "metadata": {},
   "source": [
    "# Iteration in NumPy Array"
   ]
  },
  {
   "cell_type": "code",
   "execution_count": 124,
   "id": "5266ed08",
   "metadata": {},
   "outputs": [
    {
     "name": "stdout",
     "output_type": "stream",
     "text": [
      "[50 40 30 20 10] \n",
      "\n",
      "50\n",
      "40\n",
      "30\n",
      "20\n",
      "10\n"
     ]
    }
   ],
   "source": [
    "var = np.array([50,40,30,20,10])\n",
    "print(var, '\\n')\n",
    "\n",
    "for num in var:\n",
    "    print(num)"
   ]
  },
  {
   "cell_type": "code",
   "execution_count": 127,
   "id": "fb759162",
   "metadata": {},
   "outputs": [
    {
     "name": "stdout",
     "output_type": "stream",
     "text": [
      "[50 40 30 20 10] \n",
      "\n",
      "[10 20 30 40]\n",
      "[50 60 70 80]\n",
      "\n",
      "10\n",
      "20\n",
      "30\n",
      "40\n",
      "50\n",
      "60\n",
      "70\n",
      "80\n"
     ]
    }
   ],
   "source": [
    "var2 = np.array([[10,20,30,40], [50,60,70,80]])\n",
    "print(var, '\\n')\n",
    "\n",
    "for elem in var2:\n",
    "    print(elem)\n",
    "    \n",
    "print()\n",
    "\n",
    "for elem in var2:\n",
    "    for num in elem:\n",
    "        print(num)"
   ]
  },
  {
   "cell_type": "code",
   "execution_count": 128,
   "id": "439337a3",
   "metadata": {},
   "outputs": [
    {
     "name": "stdout",
     "output_type": "stream",
     "text": [
      "10\n",
      "20\n",
      "30\n",
      "40\n",
      "50\n",
      "60\n",
      "70\n",
      "80\n",
      "90\n",
      "100\n",
      "110\n",
      "120\n",
      "15\n",
      "25\n",
      "35\n",
      "45\n",
      "55\n",
      "65\n",
      "75\n",
      "85\n",
      "95\n",
      "105\n",
      "115\n",
      "125\n"
     ]
    }
   ],
   "source": [
    "var3 = np.array([[[10,20,30,40], [50,60,70,80], [90,100,110,120]], [[15,25,35,45], [55,65,75,85], [95,105,115,125]]])\n",
    "\n",
    "for elem1 in var3:\n",
    "    for elem2 in elem1:\n",
    "        for num in elem2:\n",
    "            print(num)"
   ]
  },
  {
   "cell_type": "markdown",
   "id": "1b66e9b9",
   "metadata": {},
   "source": [
    "## nditer"
   ]
  },
  {
   "cell_type": "code",
   "execution_count": 136,
   "id": "cacb3ead",
   "metadata": {},
   "outputs": [
    {
     "name": "stdout",
     "output_type": "stream",
     "text": [
      "4\n",
      "\n",
      "10\n",
      "20\n",
      "50\n",
      "60\n",
      "90\n",
      "100\n",
      "15\n",
      "25\n",
      "55\n",
      "65\n",
      "95\n",
      "105\n",
      "1\n",
      "2\n",
      "5\n",
      "6\n",
      "9\n",
      "10\n",
      "151\n",
      "251\n",
      "551\n",
      "651\n",
      "951\n",
      "1051\n"
     ]
    }
   ],
   "source": [
    "var1 = np.array([[[[10,20], [50,60], [90,100]], [[15,25], [55,65,], [95,105]]], [[[1,2], [5,6], [9,10]], [[151,251], [551,651], [951,1051]]]])\n",
    "print(var1.ndim)\n",
    "print()\n",
    "for num in np.nditer(var1):\n",
    "    print(num)"
   ]
  },
  {
   "cell_type": "code",
   "execution_count": 140,
   "id": "330cb52b",
   "metadata": {},
   "outputs": [
    {
     "name": "stdout",
     "output_type": "stream",
     "text": [
      "b'10'\n",
      "b'20'\n",
      "b'50'\n",
      "b'60'\n",
      "b'90'\n",
      "b'100'\n",
      "b'15'\n",
      "b'25'\n",
      "b'55'\n",
      "b'65'\n",
      "b'95'\n",
      "b'105'\n",
      "b'1'\n",
      "b'2'\n",
      "b'5'\n",
      "b'6'\n",
      "b'9'\n",
      "b'10'\n",
      "b'151'\n",
      "b'251'\n",
      "b'551'\n",
      "b'651'\n",
      "b'951'\n",
      "b'1051'\n",
      "\n",
      " [[[[  10   20]\n",
      "   [  50   60]\n",
      "   [  90  100]]\n",
      "\n",
      "  [[  15   25]\n",
      "   [  55   65]\n",
      "   [  95  105]]]\n",
      "\n",
      "\n",
      " [[[   1    2]\n",
      "   [   5    6]\n",
      "   [   9   10]]\n",
      "\n",
      "  [[ 151  251]\n",
      "   [ 551  651]\n",
      "   [ 951 1051]]]]\n"
     ]
    }
   ],
   "source": [
    "var2 = np.array([[[[10,20], [50,60], [90,100]], [[15,25], [55,65,], [95,105]]], [[[1,2], [5,6], [9,10]], [[151,251], [551,651], [951,1051]]]])\n",
    "\n",
    "for num in np.nditer(var2, flags=['buffered'], op_dtypes=['S']):\n",
    "    print(num)\n",
    "\n",
    "print('\\n', var2)"
   ]
  },
  {
   "cell_type": "code",
   "execution_count": 142,
   "id": "1b0fbcce",
   "metadata": {},
   "outputs": [
    {
     "name": "stdout",
     "output_type": "stream",
     "text": [
      "(0, 0, 0) 10\n",
      "(0, 0, 1) 20\n",
      "(0, 0, 2) 30\n",
      "(0, 0, 3) 40\n",
      "(0, 1, 0) 50\n",
      "(0, 1, 1) 60\n",
      "(0, 1, 2) 70\n",
      "(0, 1, 3) 80\n",
      "(0, 2, 0) 90\n",
      "(0, 2, 1) 100\n",
      "(0, 2, 2) 110\n",
      "(0, 2, 3) 120\n",
      "(1, 0, 0) 15\n",
      "(1, 0, 1) 25\n",
      "(1, 0, 2) 35\n",
      "(1, 0, 3) 45\n",
      "(1, 1, 0) 55\n",
      "(1, 1, 1) 65\n",
      "(1, 1, 2) 75\n",
      "(1, 1, 3) 85\n",
      "(1, 2, 0) 95\n",
      "(1, 2, 1) 105\n",
      "(1, 2, 2) 115\n",
      "(1, 2, 3) 125\n",
      "\n",
      " [[[ 10  20  30  40]\n",
      "  [ 50  60  70  80]\n",
      "  [ 90 100 110 120]]\n",
      "\n",
      " [[ 15  25  35  45]\n",
      "  [ 55  65  75  85]\n",
      "  [ 95 105 115 125]]]\n"
     ]
    }
   ],
   "source": [
    "var3 = np.array([[[10,20,30,40], [50,60,70,80], [90,100,110,120]], [[15,25,35,45], [55,65,75,85], [95,105,115,125]]])\n",
    "\n",
    "for index, num in np.ndenumerate(var3):\n",
    "    print(index, num)\n",
    "\n",
    "print('\\n', var3)"
   ]
  },
  {
   "cell_type": "code",
   "execution_count": null,
   "id": "ee5b1cd3",
   "metadata": {},
   "outputs": [],
   "source": []
  }
 ],
 "metadata": {
  "kernelspec": {
   "display_name": "Python 3 (ipykernel)",
   "language": "python",
   "name": "python3"
  },
  "language_info": {
   "codemirror_mode": {
    "name": "ipython",
    "version": 3
   },
   "file_extension": ".py",
   "mimetype": "text/x-python",
   "name": "python",
   "nbconvert_exporter": "python",
   "pygments_lexer": "ipython3",
   "version": "3.11.4"
  }
 },
 "nbformat": 4,
 "nbformat_minor": 5
}
