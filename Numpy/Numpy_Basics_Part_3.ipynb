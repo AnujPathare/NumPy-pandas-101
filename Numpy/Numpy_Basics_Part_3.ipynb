{
 "cells": [
  {
   "cell_type": "code",
   "execution_count": 1,
   "id": "9ea2a838",
   "metadata": {},
   "outputs": [],
   "source": [
    "import numpy as np"
   ]
  },
  {
   "cell_type": "markdown",
   "id": "9b014d24",
   "metadata": {},
   "source": [
    "# Copy & View"
   ]
  },
  {
   "cell_type": "code",
   "execution_count": 9,
   "id": "f8e770b8",
   "metadata": {},
   "outputs": [
    {
     "name": "stdout",
     "output_type": "stream",
     "text": [
      "var [ 1 20  3  4  5]\n",
      "copy [1 2 3 4 5]\n"
     ]
    }
   ],
   "source": [
    "var = np.array([1,2,3,4,5])\n",
    "copy = var.copy()\n",
    "\n",
    "var[1] = 20\n",
    "\n",
    "print('var', var)\n",
    "print('copy', copy)"
   ]
  },
  {
   "cell_type": "code",
   "execution_count": 10,
   "id": "de9515b8",
   "metadata": {},
   "outputs": [
    {
     "name": "stdout",
     "output_type": "stream",
     "text": [
      "x [10  2 30 40 50]\n",
      "view [10  2 30 40 50]\n"
     ]
    }
   ],
   "source": [
    "x = np.array([10,20,30,40,50])\n",
    "view = x.view()\n",
    "\n",
    "x[1] = 2\n",
    "\n",
    "print('x', x)\n",
    "print('view', view)"
   ]
  },
  {
   "cell_type": "markdown",
   "id": "cc1fd8d5",
   "metadata": {},
   "source": [
    "# Join Array"
   ]
  },
  {
   "cell_type": "code",
   "execution_count": 21,
   "id": "9e535dd5",
   "metadata": {},
   "outputs": [
    {
     "name": "stdout",
     "output_type": "stream",
     "text": [
      "[ 2  4  6  8 10  1  3  5  7  9]\n"
     ]
    }
   ],
   "source": [
    "var1 = np.array([2,4,6,8,10])\n",
    "var2 = np.array([1,3,5,7,9])\n",
    "\n",
    "arr1 = np.concatenate((var1, var2))\n",
    "print(arr1)"
   ]
  },
  {
   "cell_type": "code",
   "execution_count": 22,
   "id": "d1935fa2",
   "metadata": {},
   "outputs": [
    {
     "name": "stdout",
     "output_type": "stream",
     "text": [
      "[[2 4]\n",
      " [6 8]\n",
      " [1 3]\n",
      " [5 7]] \n",
      "\n",
      "[[2 4 1 3]\n",
      " [6 8 5 7]] \n",
      "\n"
     ]
    }
   ],
   "source": [
    "var3 = np.array([[2,4],[6,8]])\n",
    "var4 = np.array([[1,3],[5,7]])\n",
    "\n",
    "arr2 = np.concatenate((var3, var4), axis=0)\n",
    "print(arr2, '\\n')\n",
    "\n",
    "arr3 = np.concatenate((var3, var4), axis=1)\n",
    "print(arr3, '\\n')"
   ]
  },
  {
   "cell_type": "code",
   "execution_count": 29,
   "id": "479dc117",
   "metadata": {},
   "outputs": [
    {
     "name": "stdout",
     "output_type": "stream",
     "text": [
      "stack, axis=0: [[2 4 6 8]\n",
      " [1 3 5 7]] \n",
      "\n",
      "stack, axis=1 [[2 1]\n",
      " [4 3]\n",
      " [6 5]\n",
      " [8 7]] \n",
      "\n",
      "hstack [2 4 6 8 1 3 5 7] \n",
      "\n",
      "vstack [[2 4 6 8]\n",
      " [1 3 5 7]] \n",
      "\n",
      "dstack [[[2 1]\n",
      "  [4 3]\n",
      "  [6 5]\n",
      "  [8 7]]] \n",
      "\n"
     ]
    }
   ],
   "source": [
    "var5 = np.array([2,4,6,8])\n",
    "var6 = np.array([1,3,5,7])\n",
    "\n",
    "arr4 = np.stack((var5, var6), axis=0)\n",
    "arr5 = np.stack((var5, var6), axis=1)\n",
    "arr6 = np.hstack((var5, var6))\n",
    "arr7 = np.vstack((var5, var6))\n",
    "arr8 = np.dstack((var5, var6))\n",
    "\n",
    "print('stack, axis=0:', arr4, '\\n')\n",
    "print('stack, axis=1', arr5, '\\n')\n",
    "print('hstack', arr6, '\\n')\n",
    "print('vstack', arr7, '\\n')\n",
    "print('dstack', arr8, '\\n')"
   ]
  },
  {
   "cell_type": "markdown",
   "id": "86a82f45",
   "metadata": {},
   "source": [
    "# Split Array"
   ]
  },
  {
   "cell_type": "code",
   "execution_count": 47,
   "id": "1e5812a6",
   "metadata": {},
   "outputs": [
    {
     "name": "stdout",
     "output_type": "stream",
     "text": [
      "<class 'list'> [array([2, 4]), array([6, 8]), array([10, 12])]\n",
      "[6 8] \n",
      "\n",
      "<class 'list'> [array([[ 2,  4],\n",
      "       [ 8, 10]]), array([[ 6],\n",
      "       [12]])]\n",
      "[[ 6]\n",
      " [12]]\n"
     ]
    }
   ],
   "source": [
    "var1 = np.array([2,4,6,8,10,12])\n",
    "\n",
    "split1 = np.array_split(var1, 3)\n",
    "print(type(split1), split1)\n",
    "print(split1[1], '\\n')\n",
    "\n",
    "var2 = np.array([[2,4,6],[8,10,12]])\n",
    "\n",
    "split2 = np.array_split(var2, 2, axis=1)\n",
    "print(type(split2), split2)\n",
    "print(split2[1])"
   ]
  },
  {
   "cell_type": "markdown",
   "id": "09ef966d",
   "metadata": {},
   "source": [
    "# Search in NumPy Array\n",
    "\n",
    "- Search in array for a certain value\n",
    "    - Returns the index of the elements that are matched"
   ]
  },
  {
   "cell_type": "code",
   "execution_count": 56,
   "id": "5a7ff0fb",
   "metadata": {},
   "outputs": [
    {
     "name": "stdout",
     "output_type": "stream",
     "text": [
      "(array([ 2,  8, 13], dtype=int64),) \n",
      "\n",
      "(array([], dtype=int64),) \n",
      "\n",
      "(array([ 2,  5,  8,  9, 11, 12, 13], dtype=int64),) \n",
      "\n"
     ]
    }
   ],
   "source": [
    "var = np.array([1,5,2,17,9,6,3,15,2,38,53,24,32,2])\n",
    "\n",
    "x = np.where(var==2)\n",
    "print(x, '\\n')\n",
    "\n",
    "x = np.where(var/2==0) # returns index of the elements to be searched\n",
    "print(x, '\\n')\n",
    "\n",
    "x = np.where(var%2==0) # returns index of the elements to be searched\n",
    "print(x, '\\n')"
   ]
  },
  {
   "cell_type": "markdown",
   "id": "961145d7",
   "metadata": {},
   "source": [
    "# Sort NumPy Array"
   ]
  },
  {
   "cell_type": "code",
   "execution_count": 79,
   "id": "fcd72212",
   "metadata": {},
   "outputs": [
    {
     "name": "stdout",
     "output_type": "stream",
     "text": [
      "[ 1  5  2 17  9  6  3 15  2 38 53 24 32  2] \n",
      "\n",
      "[ 1  2  2  2  3  5  6  9 15 17 24 32 38 53] \n",
      "\n"
     ]
    }
   ],
   "source": [
    "var = np.array([1,5,2,17,9,6,3,15,2,38,53,24,32,2])\n",
    "print(var, '\\n')\n",
    "\n",
    "var = np.sort(var) # Sort the numpy array\n",
    "print(var, '\\n')"
   ]
  },
  {
   "cell_type": "code",
   "execution_count": 80,
   "id": "86a59d8e",
   "metadata": {},
   "outputs": [
    {
     "name": "stdout",
     "output_type": "stream",
     "text": [
      "['z' 'd' 'a' 'f' 'y' 't'] \n",
      "\n",
      "['a' 'd' 'f' 't' 'y' 'z'] \n",
      "\n"
     ]
    }
   ],
   "source": [
    "var = np.array(['z','d','a','f','y','t'])\n",
    "print(var, '\\n')\n",
    "\n",
    "var = np.sort(var) # Sort the numpy array\n",
    "print(var, '\\n')"
   ]
  },
  {
   "cell_type": "code",
   "execution_count": 81,
   "id": "b1bf21e4",
   "metadata": {},
   "outputs": [
    {
     "name": "stdout",
     "output_type": "stream",
     "text": [
      "[[ 1  5  2 17  9  6]\n",
      " [ 3 15  2 38 53 24]] \n",
      "\n",
      "[[ 1  2  5  6  9 17]\n",
      " [ 2  3 15 24 38 53]] \n",
      "\n"
     ]
    }
   ],
   "source": [
    "var = np.array([[1,5,2,17,9,6],[3,15,2,38,53,24]])\n",
    "print(var, '\\n')\n",
    "\n",
    "var = np.sort(var) # Sort the numpy array\n",
    "print(var, '\\n')"
   ]
  },
  {
   "cell_type": "markdown",
   "id": "3776be74",
   "metadata": {},
   "source": [
    "# Search in a Sorted NumPy Array\n",
    "\n",
    "- Returns the index where specified value can be inserted to maintain the order"
   ]
  },
  {
   "cell_type": "code",
   "execution_count": 73,
   "id": "77609023",
   "metadata": {},
   "outputs": [
    {
     "name": "stdout",
     "output_type": "stream",
     "text": [
      "[ 1  2  2  2  3  5  6  9 15 17 24 32 38 53] \n",
      "\n",
      "14 \n",
      "\n",
      "0 \n",
      "\n",
      "10 \n",
      "\n",
      "9 \n",
      "\n",
      "11 \n",
      "\n",
      "10 \n",
      "\n",
      "[ 8  9 10] \n",
      "\n",
      "[10 10 11] \n",
      "\n"
     ]
    }
   ],
   "source": [
    "var = np.array([1,5,2,17,9,6,3,15,2,38,53,24,32,2])\n",
    "var = np.sort(var) # Sort the numpy array\n",
    "print(var, '\\n')\n",
    "\n",
    "x = np.searchsorted(var, 100) # returns index where the elements can be inserted\n",
    "print(x, '\\n')\n",
    "\n",
    "x = np.searchsorted(var, 0) # returns index where the elements can be inserted\n",
    "print(x, '\\n')\n",
    "\n",
    "x = np.searchsorted(var, 24) # returns index where the elements can be inserted\n",
    "print(x, '\\n')\n",
    "\n",
    "x = np.searchsorted(var, 17) # returns index where the elements can be inserted\n",
    "print(x, '\\n')\n",
    "\n",
    "x = np.searchsorted(var, 24, side='right') # returns index where the elements can be inserted\n",
    "print(x, '\\n')\n",
    "\n",
    "x = np.searchsorted(var, 17, side='right') # returns index where the elements can be inserted\n",
    "print(x, '\\n')\n",
    "\n",
    "x = np.searchsorted(var, [14,16,18]) # returns index where the elements can be inserted\n",
    "print(x, '\\n')\n",
    "\n",
    "x = np.searchsorted(var, [20,22,24], side='right') # returns index where the elements can be inserted\n",
    "print(x, '\\n')"
   ]
  },
  {
   "cell_type": "markdown",
   "id": "7c9882d9",
   "metadata": {},
   "source": [
    "# Filter NumPy Array"
   ]
  },
  {
   "cell_type": "code",
   "execution_count": 84,
   "id": "79844a39",
   "metadata": {},
   "outputs": [
    {
     "name": "stdout",
     "output_type": "stream",
     "text": [
      "<class 'numpy.ndarray'> [1 7] \n",
      "\n"
     ]
    }
   ],
   "source": [
    "var = np.array([1,5,7,12])\n",
    "\n",
    "my_filter = [True,False,True,False]\n",
    "\n",
    "filtered_arr = var[my_filter]\n",
    "\n",
    "print(type(filtered_arr), filtered_arr, '\\n')"
   ]
  },
  {
   "cell_type": "markdown",
   "id": "19ab2b03",
   "metadata": {},
   "source": [
    "# Part 2: Functions in NumPy Array"
   ]
  },
  {
   "cell_type": "markdown",
   "id": "3a2311d0",
   "metadata": {},
   "source": [
    "## shuffle()"
   ]
  },
  {
   "cell_type": "code",
   "execution_count": 103,
   "id": "8fc0d2ac",
   "metadata": {},
   "outputs": [
    {
     "name": "stdout",
     "output_type": "stream",
     "text": [
      "[10  9  8  7  6] \n",
      "\n",
      "[ 6 10  8  7  9] \n",
      "\n"
     ]
    }
   ],
   "source": [
    "var = np.array([10,9,8,7,6])\n",
    "print(var, '\\n')\n",
    "\n",
    "np.random.shuffle(var)\n",
    "print(var, '\\n')"
   ]
  },
  {
   "cell_type": "markdown",
   "id": "847ccd45",
   "metadata": {},
   "source": [
    "## unique()"
   ]
  },
  {
   "cell_type": "code",
   "execution_count": 110,
   "id": "7d11f718",
   "metadata": {},
   "outputs": [
    {
     "name": "stdout",
     "output_type": "stream",
     "text": [
      "[  1   2   5   9  15  17  21  23 101] \n",
      "\n",
      "(array([  1,   2,   5,   9,  15,  17,  21,  23, 101]), array([ 0,  3,  1,  5, 10,  4,  7, 12, 11], dtype=int64)) \n",
      "\n",
      "(array([  1,   2,   5,   9,  15,  17,  21,  23, 101]), array([2, 4, 2, 1, 1, 1, 1, 1, 1], dtype=int64)) \n",
      "\n"
     ]
    }
   ],
   "source": [
    "var = np.array([1,5,1,2,17,9,5,21,2,2,15,101,23,2])\n",
    "\n",
    "x = np.unique(var)\n",
    "print(x, '\\n')\n",
    "\n",
    "x = np.unique(var, return_index=True)\n",
    "print(x, '\\n')\n",
    "\n",
    "x = np.unique(var, return_counts=True)\n",
    "print(x, '\\n')"
   ]
  },
  {
   "cell_type": "markdown",
   "id": "7ae3d6b1",
   "metadata": {},
   "source": [
    "## resize()\n",
    "\n",
    "resize() can create an array of larger size than the original array\n",
    "<br>\n",
    "\n",
    "reshape() is used to create a new array of the same size (as the original array) but of different desired dimensions\n"
   ]
  },
  {
   "cell_type": "code",
   "execution_count": 148,
   "id": "400422dc",
   "metadata": {},
   "outputs": [
    {
     "name": "stdout",
     "output_type": "stream",
     "text": [
      "[[1 2 3 4 5 6]\n",
      " [1 2 3 4 5 6]\n",
      " [1 2 3 4 5 6]] \n",
      "\n",
      "[[1 2]\n",
      " [3 4]\n",
      " [5 6]]\n"
     ]
    },
    {
     "ename": "ValueError",
     "evalue": "cannot reshape array of size 6 into shape (3,6)",
     "output_type": "error",
     "traceback": [
      "\u001b[1;31m---------------------------------------------------------------------------\u001b[0m",
      "\u001b[1;31mValueError\u001b[0m                                Traceback (most recent call last)",
      "Cell \u001b[1;32mIn[148], line 6\u001b[0m\n\u001b[0;32m      3\u001b[0m \u001b[38;5;28mprint\u001b[39m(x, \u001b[38;5;124m'\u001b[39m\u001b[38;5;130;01m\\n\u001b[39;00m\u001b[38;5;124m'\u001b[39m)\n\u001b[0;32m      5\u001b[0m \u001b[38;5;28mprint\u001b[39m(var\u001b[38;5;241m.\u001b[39mreshape(\u001b[38;5;241m3\u001b[39m,\u001b[38;5;241m2\u001b[39m))\n\u001b[1;32m----> 6\u001b[0m \u001b[38;5;28mprint\u001b[39m(\u001b[43mvar\u001b[49m\u001b[38;5;241;43m.\u001b[39;49m\u001b[43mreshape\u001b[49m\u001b[43m(\u001b[49m\u001b[38;5;241;43m3\u001b[39;49m\u001b[43m,\u001b[49m\u001b[38;5;241;43m6\u001b[39;49m\u001b[43m)\u001b[49m) \u001b[38;5;66;03m# gives an error\u001b[39;00m\n",
      "\u001b[1;31mValueError\u001b[0m: cannot reshape array of size 6 into shape (3,6)"
     ]
    }
   ],
   "source": [
    "var = np.array([1,2,3,4,5,6])\n",
    "x = np.resize(var, (3,6))\n",
    "print(x, '\\n')\n",
    "\n",
    "print(var.reshape(3,2))\n",
    "print(var.reshape(3,6)) # gives an error"
   ]
  },
  {
   "cell_type": "markdown",
   "id": "e3d688d6",
   "metadata": {},
   "source": [
    "## flatten() & ravel()\n",
    "\n",
    "\n",
    "- Both flatten() and ravel() are used to convert multi-dimensional arrays into one-dimensional arrays, but the difference is in how they handle memory\n",
    "\n",
    "    1. **flatten()** creates a **new copy**, and changes to the copy do not affect the original array\n",
    "    2. **ravel()** returns a **flattened view**, and changes to the flattened view also affect the original array"
   ]
  },
  {
   "cell_type": "code",
   "execution_count": 146,
   "id": "3a21fa30",
   "metadata": {},
   "outputs": [
    {
     "name": "stdout",
     "output_type": "stream",
     "text": [
      "[[1 2 3]\n",
      " [4 5 6]\n",
      " [7 8 9]] \n",
      "\n",
      "[1 2 3 4 5 6 7 8 9] \n",
      "------------------------------------------\n",
      "Flatten: [1 2 3 4 5 6 7 8 9] \n",
      "\n",
      "Flatten, order=\"C\": [1 2 3 4 5 6 7 8 9] \n",
      "\n",
      "Flatten, order=\"F\": [1 4 7 2 5 8 3 6 9] \n",
      "------------------------------------------\n",
      "Ravel: [1 2 3 4 5 6 7 8 9] \n",
      "\n",
      "Ravel, order=\"F\": [1 4 7 2 5 8 3 6 9] \n",
      "\n",
      "Ravel, order=\"C\": [1 2 3 4 5 6 7 8 9] \n",
      "\n",
      "Ravel, order=\"K\": [1 2 3 4 5 6 7 8 9] \n",
      "\n"
     ]
    }
   ],
   "source": [
    "var = np.array([1,2,3,4,5,6,7,8,9])\n",
    "x = np.resize(var, (3,3))\n",
    "print(x, '\\n')\n",
    "print(x.flatten(), '\\n------------------------------------------')\n",
    "\n",
    "print('Flatten:', x.flatten(), '\\n')\n",
    "print('Flatten, order=\"C\":', x.flatten(order='C'), '\\n')\n",
    "print('Flatten, order=\"F\":', x.flatten(order='F'), '\\n------------------------------------------')\n",
    "\n",
    "print('Ravel:', np.ravel(x), '\\n')\n",
    "print('Ravel, order=\"F\":', np.ravel(x, order=\"F\"), '\\n')\n",
    "print('Ravel, order=\"C\":', np.ravel(x, order=\"C\"), '\\n')\n",
    "print('Ravel, order=\"K\":', np.ravel(x, order=\"K\"), '\\n')\n",
    "\n",
    "# Refer documentation for more orders in flatten() and ravel()"
   ]
  },
  {
   "cell_type": "markdown",
   "id": "a41aa28a",
   "metadata": {},
   "source": [
    "## insert()"
   ]
  },
  {
   "cell_type": "code",
   "execution_count": 158,
   "id": "eabcc834",
   "metadata": {},
   "outputs": [
    {
     "name": "stdout",
     "output_type": "stream",
     "text": [
      "[1 2 3 4 5 6] \n",
      "\n",
      "[ 1  2 21  3  4  5  6] \n",
      "\n",
      "[  1   2 101 201 301   3   4   5   6] \n",
      "\n",
      "[ 1  2 21  3  4 21  5  6] \n",
      "\n",
      "[  1   2 300   3   4 300   5   6] \n",
      "\n"
     ]
    }
   ],
   "source": [
    "var = np.array([1,2,3,4,5,6])\n",
    "print(var, '\\n')\n",
    "\n",
    "x = np.insert(var, 2, 21)\n",
    "print(x, '\\n')\n",
    "\n",
    "x = np.insert(var, 2, [101,201,301])\n",
    "print(x, '\\n')\n",
    "\n",
    "x = np.insert(var, (2,4), 21)\n",
    "print(x, '\\n')\n",
    "\n",
    "x = np.insert(var, (2,4), 300.14) # Will not accept float value\n",
    "print(x, '\\n')"
   ]
  },
  {
   "cell_type": "code",
   "execution_count": 175,
   "id": "709c76e5",
   "metadata": {},
   "outputs": [
    {
     "name": "stdout",
     "output_type": "stream",
     "text": [
      "[[1 2 3]\n",
      " [4 5 6]] \n",
      "\n",
      "[[ 1  2  3]\n",
      " [21 21 21]\n",
      " [ 4  5  6]] \n",
      "\n",
      "[[ 1  2  3]\n",
      " [ 4  5  6]\n",
      " [21 21 21]] \n",
      "\n",
      "[[ 1  2 21  3]\n",
      " [ 4  5 21  6]] \n",
      "\n",
      "[[  1   2  21   3]\n",
      " [  4   5 108   6]] \n",
      "\n",
      "[[  21  108 1008]\n",
      " [   1    2    3]\n",
      " [   4    5    6]] \n",
      "\n"
     ]
    }
   ],
   "source": [
    "var1 = np.array([[1,2,3],[4,5,6]])\n",
    "print(var, '\\n')\n",
    "\n",
    "x = np.insert(var1, 1, 21, axis=0)\n",
    "print(x, '\\n')\n",
    "\n",
    "x = np.insert(var1, 2, 21, axis=0)\n",
    "print(x, '\\n')\n",
    "\n",
    "x = np.insert(var1, 2, 21, axis=1)\n",
    "print(x, '\\n')\n",
    "\n",
    "x = np.insert(var1, 2, [21,108], axis=1)\n",
    "print(x, '\\n')\n",
    "\n",
    "x = np.insert(var1, 0, [21,108,1008], axis=0)\n",
    "print(x, '\\n')"
   ]
  },
  {
   "cell_type": "markdown",
   "id": "a6d75c8b",
   "metadata": {},
   "source": [
    "## append()"
   ]
  },
  {
   "cell_type": "code",
   "execution_count": 176,
   "id": "15ba90ca",
   "metadata": {},
   "outputs": [
    {
     "name": "stdout",
     "output_type": "stream",
     "text": [
      "[1 2 3 4 5 6] \n",
      "\n",
      "[1.   2.   3.   4.   5.   6.   3.14] \n",
      "\n"
     ]
    }
   ],
   "source": [
    "var = np.array([1,2,3,4,5,6])\n",
    "print(var, '\\n')\n",
    "\n",
    "x = np.append(var, 3.14)\n",
    "print(x, '\\n')"
   ]
  },
  {
   "cell_type": "code",
   "execution_count": 189,
   "id": "0567cf23",
   "metadata": {},
   "outputs": [
    {
     "name": "stdout",
     "output_type": "stream",
     "text": [
      "[1 2 3 4 5 6] \n",
      "\n",
      "[[  1   2   3  21]\n",
      " [  4   5   6 101]] \n",
      "\n",
      "[[   1    2    3]\n",
      " [   4    5    6]\n",
      " [  21  101 1001]] \n",
      "\n"
     ]
    }
   ],
   "source": [
    "var1 = np.array([[1,2,3],[4,5,6]])\n",
    "print(var, '\\n')\n",
    "\n",
    "x = np.append(var1, [[21],[101]], axis = 1)\n",
    "print(x, '\\n')\n",
    "\n",
    "x = np.append(var1, [[21,101,1001]], axis = 0)\n",
    "print(x, '\\n')"
   ]
  },
  {
   "cell_type": "markdown",
   "id": "988b0056",
   "metadata": {},
   "source": [
    "## delete()"
   ]
  },
  {
   "cell_type": "code",
   "execution_count": 195,
   "id": "dc73ed14",
   "metadata": {},
   "outputs": [
    {
     "name": "stdout",
     "output_type": "stream",
     "text": [
      "[1 2 3 4 5 6] \n",
      "\n",
      "Array after deleting data at index 2:\n",
      " [1 2 4 5 6]\n"
     ]
    }
   ],
   "source": [
    "var = np.array([1,2,3,4,5,6])\n",
    "print(var, '\\n')\n",
    "\n",
    "x = np.delete(var, 2)\n",
    "print('Array after deleting data at index 2:\\n', x)"
   ]
  },
  {
   "cell_type": "markdown",
   "id": "69bdba71",
   "metadata": {},
   "source": [
    "# Matrix Functions in NumPy Arrays"
   ]
  },
  {
   "cell_type": "code",
   "execution_count": 204,
   "id": "e0aeaac6",
   "metadata": {},
   "outputs": [
    {
     "name": "stdout",
     "output_type": "stream",
     "text": [
      "<class 'numpy.matrix'> \n",
      " [[1 2 3]\n",
      " [4 5 6]] \n",
      "\n",
      "<class 'numpy.ndarray'> \n",
      " [[1 2 3]\n",
      " [4 5 6]] \n",
      "\n"
     ]
    }
   ],
   "source": [
    "var1 = np.matrix([[1,2,3],[4,5,6]])\n",
    "\n",
    "var2 = np.array([[1,2,3],[4,5,6]])\n",
    "\n",
    "print(type(var1), '\\n', var1, '\\n')\n",
    "print(type(var2), '\\n', var2, '\\n')"
   ]
  },
  {
   "cell_type": "code",
   "execution_count": 209,
   "id": "f54a384c",
   "metadata": {},
   "outputs": [
    {
     "ename": "ValueError",
     "evalue": "shapes (2,3) and (2,3) not aligned: 3 (dim 1) != 2 (dim 0)",
     "output_type": "error",
     "traceback": [
      "\u001b[1;31m---------------------------------------------------------------------------\u001b[0m",
      "\u001b[1;31mValueError\u001b[0m                                Traceback (most recent call last)",
      "Cell \u001b[1;32mIn[209], line 5\u001b[0m\n\u001b[0;32m      1\u001b[0m var1 \u001b[38;5;241m=\u001b[39m np\u001b[38;5;241m.\u001b[39mmatrix([[\u001b[38;5;241m1\u001b[39m,\u001b[38;5;241m2\u001b[39m,\u001b[38;5;241m3\u001b[39m],[\u001b[38;5;241m4\u001b[39m,\u001b[38;5;241m5\u001b[39m,\u001b[38;5;241m6\u001b[39m]])\n\u001b[0;32m      3\u001b[0m var2 \u001b[38;5;241m=\u001b[39m np\u001b[38;5;241m.\u001b[39mmatrix([[\u001b[38;5;241m1\u001b[39m,\u001b[38;5;241m2\u001b[39m,\u001b[38;5;241m3\u001b[39m],[\u001b[38;5;241m4\u001b[39m,\u001b[38;5;241m5\u001b[39m,\u001b[38;5;241m6\u001b[39m]])\n\u001b[1;32m----> 5\u001b[0m \u001b[38;5;28mprint\u001b[39m(\u001b[43mvar1\u001b[49m\u001b[38;5;241;43m*\u001b[39;49m\u001b[43mvar2\u001b[49m) \u001b[38;5;66;03m# will give an error\u001b[39;00m\n",
      "File \u001b[1;32m~\\AppData\\Local\\Programs\\Python\\Python311\\Lib\\site-packages\\numpy\\matrixlib\\defmatrix.py:219\u001b[0m, in \u001b[0;36mmatrix.__mul__\u001b[1;34m(self, other)\u001b[0m\n\u001b[0;32m    216\u001b[0m \u001b[38;5;28;01mdef\u001b[39;00m \u001b[38;5;21m__mul__\u001b[39m(\u001b[38;5;28mself\u001b[39m, other):\n\u001b[0;32m    217\u001b[0m     \u001b[38;5;28;01mif\u001b[39;00m \u001b[38;5;28misinstance\u001b[39m(other, (N\u001b[38;5;241m.\u001b[39mndarray, \u001b[38;5;28mlist\u001b[39m, \u001b[38;5;28mtuple\u001b[39m)) :\n\u001b[0;32m    218\u001b[0m         \u001b[38;5;66;03m# This promotes 1-D vectors to row vectors\u001b[39;00m\n\u001b[1;32m--> 219\u001b[0m         \u001b[38;5;28;01mreturn\u001b[39;00m \u001b[43mN\u001b[49m\u001b[38;5;241;43m.\u001b[39;49m\u001b[43mdot\u001b[49m\u001b[43m(\u001b[49m\u001b[38;5;28;43mself\u001b[39;49m\u001b[43m,\u001b[49m\u001b[43m \u001b[49m\u001b[43masmatrix\u001b[49m\u001b[43m(\u001b[49m\u001b[43mother\u001b[49m\u001b[43m)\u001b[49m\u001b[43m)\u001b[49m\n\u001b[0;32m    220\u001b[0m     \u001b[38;5;28;01mif\u001b[39;00m isscalar(other) \u001b[38;5;129;01mor\u001b[39;00m \u001b[38;5;129;01mnot\u001b[39;00m \u001b[38;5;28mhasattr\u001b[39m(other, \u001b[38;5;124m'\u001b[39m\u001b[38;5;124m__rmul__\u001b[39m\u001b[38;5;124m'\u001b[39m) :\n\u001b[0;32m    221\u001b[0m         \u001b[38;5;28;01mreturn\u001b[39;00m N\u001b[38;5;241m.\u001b[39mdot(\u001b[38;5;28mself\u001b[39m, other)\n",
      "\u001b[1;31mValueError\u001b[0m: shapes (2,3) and (2,3) not aligned: 3 (dim 1) != 2 (dim 0)"
     ]
    }
   ],
   "source": [
    "var1 = np.matrix([[1,2,3],[4,5,6]])\n",
    "\n",
    "var2 = np.matrix([[1,2,3],[4,5,6]])\n",
    "\n",
    "print(var1*var2) # will give an error"
   ]
  },
  {
   "cell_type": "markdown",
   "id": "e5f5a53f",
   "metadata": {},
   "source": [
    "## dot()"
   ]
  },
  {
   "cell_type": "code",
   "execution_count": 212,
   "id": "64192c21",
   "metadata": {},
   "outputs": [
    {
     "name": "stdout",
     "output_type": "stream",
     "text": [
      "[[ 30  36  42 420]\n",
      " [ 66  81  96 960]] \n",
      "\n",
      "[[ 30  36  42 420]\n",
      " [ 66  81  96 960]]\n"
     ]
    }
   ],
   "source": [
    "var3 = np.matrix([[1,2,3],[4,5,6]])\n",
    "var4 = np.matrix([[1,2,3,30],[4,5,6,60], [7,8,9,90]])\n",
    "\n",
    "print(var3*var4, '\\n')\n",
    "print(np.dot(var3, var4))"
   ]
  },
  {
   "cell_type": "markdown",
   "id": "1b79ffb8",
   "metadata": {},
   "source": [
    "## transpose()"
   ]
  },
  {
   "cell_type": "code",
   "execution_count": 217,
   "id": "d6ea7ffd",
   "metadata": {},
   "outputs": [
    {
     "name": "stdout",
     "output_type": "stream",
     "text": [
      "[[1 2 3]\n",
      " [4 5 6]] \n",
      "\n",
      "[[1 4]\n",
      " [2 5]\n",
      " [3 6]] \n",
      "\n",
      "[[1 4]\n",
      " [2 5]\n",
      " [3 6]]\n"
     ]
    }
   ],
   "source": [
    "var1 = np.matrix([[1,2,3],[4,5,6]])\n",
    "print(var1, '\\n')\n",
    "\n",
    "print(np.transpose(var1), '\\n') # Transpose of the matrix\n",
    "\n",
    "print(var1.T) # Transpose of the matrix"
   ]
  },
  {
   "cell_type": "markdown",
   "id": "e0f32802",
   "metadata": {},
   "source": [
    "## swapaxes()"
   ]
  },
  {
   "cell_type": "code",
   "execution_count": 226,
   "id": "15552fdf",
   "metadata": {},
   "outputs": [
    {
     "name": "stdout",
     "output_type": "stream",
     "text": [
      "[[1 4 7]\n",
      " [2 5 8]\n",
      " [3 6 9]] \n",
      "\n",
      "[[1 4 7]\n",
      " [2 5 8]\n",
      " [3 6 9]]\n"
     ]
    }
   ],
   "source": [
    "var1 = np.matrix([[1,2,3],[4,5,6],[7,8,9]])\n",
    "\n",
    "print(np.swapaxes(var1, 0,1), '\\n')\n",
    "\n",
    "print(np.swapaxes(var1, 1,0))"
   ]
  },
  {
   "cell_type": "markdown",
   "id": "7f81f442",
   "metadata": {},
   "source": [
    "## linalg.inv()"
   ]
  },
  {
   "cell_type": "code",
   "execution_count": 233,
   "id": "6d6a2256",
   "metadata": {},
   "outputs": [
    {
     "name": "stdout",
     "output_type": "stream",
     "text": [
      "[[1 2]\n",
      " [3 4]] \n",
      "\n",
      "[[-2.   1. ]\n",
      " [ 1.5 -0.5]] \n",
      "\n"
     ]
    }
   ],
   "source": [
    "var1 = np.matrix([[1,2],[3,4]])\n",
    "\n",
    "print(var1, '\\n')\n",
    "\n",
    "print(np.linalg.inv(var1), '\\n') # inverse of a matrix"
   ]
  },
  {
   "cell_type": "markdown",
   "id": "8ee48242",
   "metadata": {},
   "source": [
    "## linalg.matrix_power()\n",
    "\n",
    "➜ **np.linalg.matrix_power(matrix, n)**\n",
    "- **n** can take 3 values:\n",
    "    1. **n = 0**: Identity Matrix\n",
    "    2. **n > 0**: Power\n",
    "    3. **n < 0**: Inverse^Power"
   ]
  },
  {
   "cell_type": "code",
   "execution_count": 239,
   "id": "03047ee9",
   "metadata": {},
   "outputs": [
    {
     "name": "stdout",
     "output_type": "stream",
     "text": [
      "[[1 2]\n",
      " [3 4]] \n",
      "\n",
      "[[ 7 10]\n",
      " [15 22]] \n",
      "\n",
      "[[1 0]\n",
      " [0 1]] \n",
      "\n",
      "[[ 5.5  -2.5 ]\n",
      " [-3.75  1.75]] \n",
      "\n"
     ]
    }
   ],
   "source": [
    "var = np.matrix([[1,2],[3,4]])\n",
    "print(var, '\\n')\n",
    "\n",
    "print(np.linalg.matrix_power(var, 2), '\\n')\n",
    "\n",
    "print(np.linalg.matrix_power(var, 0), '\\n')\n",
    "\n",
    "print(np.linalg.matrix_power(var, -2), '\\n')"
   ]
  },
  {
   "cell_type": "markdown",
   "id": "76d26786",
   "metadata": {},
   "source": [
    "## linalg.det()"
   ]
  },
  {
   "cell_type": "code",
   "execution_count": 251,
   "id": "97bdbfe9",
   "metadata": {},
   "outputs": [
    {
     "name": "stdout",
     "output_type": "stream",
     "text": [
      "[[1 2]\n",
      " [3 4]] \n",
      "\n",
      "Determinant: -2.0000000000000004\n",
      "Determinant: -2\n"
     ]
    }
   ],
   "source": [
    "var = np.matrix([[1,2],[3,4]])\n",
    "print(var, '\\n')\n",
    "\n",
    "print('Determinant:', np.linalg.det(var))\n",
    "print('Determinant:', round(np.linalg.det(var)))"
   ]
  },
  {
   "cell_type": "code",
   "execution_count": 249,
   "id": "16bdbf35",
   "metadata": {},
   "outputs": [
    {
     "name": "stdout",
     "output_type": "stream",
     "text": [
      "[[1 2 3]\n",
      " [3 4 5]\n",
      " [1 2 3]] \n",
      "\n",
      "Determinant: 0.0\n"
     ]
    }
   ],
   "source": [
    "var = np.matrix([[1,2,3],[3,4,5],[1,2,3]])\n",
    "print(var, '\\n')\n",
    "\n",
    "print('Determinant:', np.linalg.det(var))"
   ]
  },
  {
   "cell_type": "code",
   "execution_count": null,
   "id": "96ef3328",
   "metadata": {},
   "outputs": [],
   "source": []
  }
 ],
 "metadata": {
  "kernelspec": {
   "display_name": "Python 3 (ipykernel)",
   "language": "python",
   "name": "python3"
  },
  "language_info": {
   "codemirror_mode": {
    "name": "ipython",
    "version": 3
   },
   "file_extension": ".py",
   "mimetype": "text/x-python",
   "name": "python",
   "nbconvert_exporter": "python",
   "pygments_lexer": "ipython3",
   "version": "3.11.4"
  }
 },
 "nbformat": 4,
 "nbformat_minor": 5
}
