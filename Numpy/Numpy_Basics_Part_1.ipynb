{
 "cells": [
  {
   "cell_type": "code",
   "execution_count": 64,
   "id": "b2f35522",
   "metadata": {},
   "outputs": [],
   "source": [
    "import numpy as np"
   ]
  },
  {
   "cell_type": "markdown",
   "id": "9981a3d6",
   "metadata": {},
   "source": [
    "# Basic Numpy Array"
   ]
  },
  {
   "cell_type": "code",
   "execution_count": 65,
   "id": "2922f1c7",
   "metadata": {},
   "outputs": [
    {
     "name": "stdout",
     "output_type": "stream",
     "text": [
      "[1 2 3 4] <class 'numpy.ndarray'>\n",
      "[1 2 3 4] <class 'numpy.ndarray'>\n"
     ]
    }
   ],
   "source": [
    "x = [1,2,3,4]\n",
    "y = np.array(x)\n",
    "print(y, type(y))\n",
    "\n",
    "a = np.array([1,2,3,4])\n",
    "print(a, type(a))"
   ]
  },
  {
   "cell_type": "code",
   "execution_count": 66,
   "id": "b930ce8a",
   "metadata": {},
   "outputs": [
    {
     "name": "stdout",
     "output_type": "stream",
     "text": [
      "Enter a number: 1\n",
      "Enter a number: 2\n",
      "Enter a number: 3\n",
      "Enter a number: 4\n",
      "[1 2 3 4]\n"
     ]
    }
   ],
   "source": [
    "lst = []\n",
    "\n",
    "for i in range(1,5):\n",
    "    temp = int(input(\"Enter a number: \"))\n",
    "    lst.append(temp)\n",
    "\n",
    "print(np.array(lst))"
   ]
  },
  {
   "cell_type": "code",
   "execution_count": 67,
   "id": "a116c0ef",
   "metadata": {},
   "outputs": [
    {
     "data": {
      "text/plain": [
       "1"
      ]
     },
     "execution_count": 67,
     "metadata": {},
     "output_type": "execute_result"
    }
   ],
   "source": [
    "np.array(lst).ndim"
   ]
  },
  {
   "cell_type": "code",
   "execution_count": 68,
   "id": "19d94a11",
   "metadata": {},
   "outputs": [
    {
     "name": "stdout",
     "output_type": "stream",
     "text": [
      "[[1 2 3 4]\n",
      " [5 6 7 8]]\n",
      "2\n"
     ]
    }
   ],
   "source": [
    "arr2 = np.array([[1,2,3,4], [5,6,7,8]])\n",
    "print(arr2)\n",
    "print(arr2.ndim)"
   ]
  },
  {
   "cell_type": "code",
   "execution_count": 69,
   "id": "97159b43",
   "metadata": {},
   "outputs": [
    {
     "name": "stdout",
     "output_type": "stream",
     "text": [
      "[[[1 2 3]\n",
      "  [4 5 6]\n",
      "  [7 8 9]]]\n",
      "3\n"
     ]
    }
   ],
   "source": [
    "arr3 = np.array([[[1,2,3], [4,5,6], [7,8,9]]])\n",
    "print(arr3)\n",
    "print(arr3.ndim)"
   ]
  },
  {
   "cell_type": "code",
   "execution_count": 70,
   "id": "b3e1537a",
   "metadata": {},
   "outputs": [
    {
     "name": "stdout",
     "output_type": "stream",
     "text": [
      "[[[[[[[[[[1 2 3 4 5]]]]]]]]]]\n",
      "10\n"
     ]
    }
   ],
   "source": [
    "arrn = np.array([1,2,3,4,5], ndmin = 10) # keyword is 'ndmin' not 'ndim'\n",
    "print(arrn)\n",
    "print(arrn.ndim)"
   ]
  },
  {
   "cell_type": "markdown",
   "id": "bc69ed1a",
   "metadata": {},
   "source": [
    "### Array of Zeros"
   ]
  },
  {
   "cell_type": "code",
   "execution_count": 78,
   "id": "9c8aeecf",
   "metadata": {},
   "outputs": [
    {
     "name": "stdout",
     "output_type": "stream",
     "text": [
      "[0. 0. 0. 0. 0.]\n"
     ]
    }
   ],
   "source": [
    "arr_zeros = np.zeros(5)\n",
    "print(arr_zeros)    "
   ]
  },
  {
   "cell_type": "code",
   "execution_count": 80,
   "id": "541f9913",
   "metadata": {},
   "outputs": [
    {
     "name": "stdout",
     "output_type": "stream",
     "text": [
      "[[0. 0. 0. 0.]\n",
      " [0. 0. 0. 0.]]\n"
     ]
    }
   ],
   "source": [
    "arr_zeros2d = np.zeros((2,4))\n",
    "print(arr_zeros2d)"
   ]
  },
  {
   "cell_type": "markdown",
   "id": "ff594d43",
   "metadata": {},
   "source": [
    "### Array of Ones"
   ]
  },
  {
   "cell_type": "code",
   "execution_count": 83,
   "id": "c3baac82",
   "metadata": {},
   "outputs": [
    {
     "name": "stdout",
     "output_type": "stream",
     "text": [
      "[1. 1. 1. 1. 1.]\n"
     ]
    }
   ],
   "source": [
    "arr_ones = np.ones(5)\n",
    "print(arr_ones)"
   ]
  },
  {
   "cell_type": "code",
   "execution_count": 84,
   "id": "ec697677",
   "metadata": {},
   "outputs": [
    {
     "name": "stdout",
     "output_type": "stream",
     "text": [
      "[[1. 1.]\n",
      " [1. 1.]\n",
      " [1. 1.]\n",
      " [1. 1.]]\n"
     ]
    }
   ],
   "source": [
    "arr_ones2d = np.ones((4,2))\n",
    "print(arr_ones2d)"
   ]
  },
  {
   "cell_type": "markdown",
   "id": "697a5b89",
   "metadata": {},
   "source": [
    "### Empty Array"
   ]
  },
  {
   "cell_type": "code",
   "execution_count": 145,
   "id": "07709e44",
   "metadata": {},
   "outputs": [
    {
     "name": "stdout",
     "output_type": "stream",
     "text": [
      "[ 5. 10. 15. 20.]\n"
     ]
    }
   ],
   "source": [
    "arr_empty = np.empty(4)\n",
    "print(arr_empty)"
   ]
  },
  {
   "cell_type": "markdown",
   "id": "8173efc4",
   "metadata": {},
   "source": [
    "### Range"
   ]
  },
  {
   "cell_type": "code",
   "execution_count": 89,
   "id": "a2ff7213",
   "metadata": {},
   "outputs": [
    {
     "name": "stdout",
     "output_type": "stream",
     "text": [
      "[5 6 7 8 9]\n"
     ]
    }
   ],
   "source": [
    "arr_range = np.arange(5,10)\n",
    "print(arr_range)"
   ]
  },
  {
   "cell_type": "markdown",
   "id": "fd895a5c",
   "metadata": {},
   "source": [
    "### Diagonal Elements with 1"
   ]
  },
  {
   "cell_type": "code",
   "execution_count": 95,
   "id": "3a5dc505",
   "metadata": {},
   "outputs": [
    {
     "name": "stdout",
     "output_type": "stream",
     "text": [
      "[[1. 0. 0. 0. 0.]\n",
      " [0. 1. 0. 0. 0.]\n",
      " [0. 0. 1. 0. 0.]\n",
      " [0. 0. 0. 1. 0.]\n",
      " [0. 0. 0. 0. 1.]]\n"
     ]
    }
   ],
   "source": [
    "arr_diagonal = np.eye(5) # 5x5 array\n",
    "print(arr_diagonal)"
   ]
  },
  {
   "cell_type": "code",
   "execution_count": 97,
   "id": "3bf0684b",
   "metadata": {},
   "outputs": [
    {
     "name": "stdout",
     "output_type": "stream",
     "text": [
      "[[1. 0. 0. 0. 0.]\n",
      " [0. 1. 0. 0. 0.]\n",
      " [0. 0. 1. 0. 0.]]\n"
     ]
    }
   ],
   "source": [
    "arr_diagonal3 = np.eye(3,5) # 3x5 array\n",
    "print(arr_diagonal3)"
   ]
  },
  {
   "cell_type": "markdown",
   "id": "7a21939c",
   "metadata": {},
   "source": [
    "### LineSpace"
   ]
  },
  {
   "cell_type": "code",
   "execution_count": 112,
   "id": "49400a3b",
   "metadata": {},
   "outputs": [
    {
     "name": "stdout",
     "output_type": "stream",
     "text": [
      "5 equally seperated elements from 0 to 10 [ 0.   2.5  5.   7.5 10. ] \n",
      "\n",
      "4 equally seperated elements from 0 to 10 [ 0.          3.33333333  6.66666667 10.        ] \n",
      "\n",
      "2 equally seperated elements from 0 to 20 [ 0. 20.] \n",
      "\n",
      "5 equally seperated elements from 0 to 20 [ 0.  5. 10. 15. 20.] \n",
      "\n"
     ]
    }
   ],
   "source": [
    "arr_linespace = np.linspace(0,10, num=5)\n",
    "print('5 equally seperated elements from 0 to 10', arr_linespace, '\\n')\n",
    "\n",
    "arr_linespace2 = np.linspace(0,10, num=4)\n",
    "print('4 equally seperated elements from 0 to 10', arr_linespace2, '\\n')\n",
    "\n",
    "arr_linespace3 = np.linspace(0,20, num=2)\n",
    "print('2 equally seperated elements from 0 to 20', arr_linespace3, '\\n')\n",
    "\n",
    "arr_linespace3 = np.linspace(0,20, num=5)\n",
    "print('5 equally seperated elements from 0 to 20', arr_linespace3, '\\n')"
   ]
  },
  {
   "cell_type": "markdown",
   "id": "180a0e5a",
   "metadata": {},
   "source": [
    "## Creating Numpy Arrays with Random Numbers"
   ]
  },
  {
   "cell_type": "markdown",
   "id": "f2abad56",
   "metadata": {},
   "source": [
    "### rand()\n",
    "\n",
    "- Generates array with random numbers between 0 and 1"
   ]
  },
  {
   "cell_type": "code",
   "execution_count": 119,
   "id": "320d3af0",
   "metadata": {},
   "outputs": [
    {
     "name": "stdout",
     "output_type": "stream",
     "text": [
      "[0.16562592 0.91210689 0.39640305 0.58626504 0.51487764]\n"
     ]
    }
   ],
   "source": [
    "arr_rand = np.random.rand(5)\n",
    "print(arr_rand)"
   ]
  },
  {
   "cell_type": "code",
   "execution_count": 120,
   "id": "f0d30f22",
   "metadata": {},
   "outputs": [
    {
     "name": "stdout",
     "output_type": "stream",
     "text": [
      "[[0.4736114  0.16696192 0.48966073 0.31486091 0.77101935]\n",
      " [0.01675724 0.09608922 0.81892769 0.48970051 0.61023023]]\n"
     ]
    }
   ],
   "source": [
    "arr_rand1 = np.random.rand(2,5)\n",
    "print(arr_rand1)"
   ]
  },
  {
   "cell_type": "code",
   "execution_count": 121,
   "id": "253c32b3",
   "metadata": {},
   "outputs": [
    {
     "name": "stdout",
     "output_type": "stream",
     "text": [
      "[[0.23625987 0.14079034 0.46680611 0.45935426 0.40519291]\n",
      " [0.32142632 0.30530332 0.89561804 0.11072937 0.4824482 ]]\n"
     ]
    }
   ],
   "source": [
    "arr_rand3 = np.random.rand(2,5)\n",
    "print(arr_rand3)"
   ]
  },
  {
   "cell_type": "markdown",
   "id": "b29fe3fc",
   "metadata": {},
   "source": [
    "### randn()\n",
    "- Generates array with:\n",
    "  - Numbers close to 0\n",
    "  - Numbers that can be positive or negative"
   ]
  },
  {
   "cell_type": "code",
   "execution_count": 124,
   "id": "498631c7",
   "metadata": {},
   "outputs": [
    {
     "name": "stdout",
     "output_type": "stream",
     "text": [
      "[-0.26205657 -0.15120825  0.85513963  1.33393519 -0.04963061]\n"
     ]
    }
   ],
   "source": [
    "var1 = np.random.randn(5)\n",
    "print(var1)"
   ]
  },
  {
   "cell_type": "markdown",
   "id": "3bdb89c4",
   "metadata": {},
   "source": [
    "### ranf()\n",
    "- Generates array with random numbers between: [0.0, 1.0)"
   ]
  },
  {
   "cell_type": "code",
   "execution_count": 139,
   "id": "7dbd336a",
   "metadata": {},
   "outputs": [
    {
     "name": "stdout",
     "output_type": "stream",
     "text": [
      "[0.7784876  0.24405615 0.95571842 0.7785474  0.91477669]\n"
     ]
    }
   ],
   "source": [
    "var2 = np.random.ranf(5)\n",
    "print(var2)"
   ]
  },
  {
   "cell_type": "markdown",
   "id": "fb53aa75",
   "metadata": {},
   "source": [
    "### randint()\n",
    "- Generates array of random number between a given range"
   ]
  },
  {
   "cell_type": "code",
   "execution_count": 143,
   "id": "90f14f50",
   "metadata": {
    "scrolled": true
   },
   "outputs": [
    {
     "name": "stdout",
     "output_type": "stream",
     "text": [
      "[234 200 120 216 249]\n"
     ]
    }
   ],
   "source": [
    "var3 = np.random.randint(100,500, 5)\n",
    "print(var3)"
   ]
  },
  {
   "cell_type": "markdown",
   "id": "2f01d7eb",
   "metadata": {},
   "source": [
    "# Data Types"
   ]
  },
  {
   "cell_type": "code",
   "execution_count": 161,
   "id": "6e1d623d",
   "metadata": {},
   "outputs": [
    {
     "name": "stdout",
     "output_type": "stream",
     "text": [
      "int32\n"
     ]
    }
   ],
   "source": [
    "arr = np.array([1,2,3,4,5])\n",
    "print(arr.dtype)"
   ]
  },
  {
   "cell_type": "code",
   "execution_count": 162,
   "id": "5b4b678e",
   "metadata": {},
   "outputs": [
    {
     "name": "stdout",
     "output_type": "stream",
     "text": [
      "float64\n"
     ]
    }
   ],
   "source": [
    "arr2 = np.array([1.1, 2.2, 3.3, 4.4, 5.5])\n",
    "print(arr2.dtype)"
   ]
  },
  {
   "cell_type": "code",
   "execution_count": 164,
   "id": "950df97d",
   "metadata": {},
   "outputs": [
    {
     "name": "stdout",
     "output_type": "stream",
     "text": [
      "<U1\n"
     ]
    }
   ],
   "source": [
    "arr3 = np.array(['a','b','c','d','e'])\n",
    "print(arr3.dtype)"
   ]
  },
  {
   "cell_type": "code",
   "execution_count": 165,
   "id": "f57f6e9f",
   "metadata": {},
   "outputs": [
    {
     "name": "stdout",
     "output_type": "stream",
     "text": [
      "<U11\n"
     ]
    }
   ],
   "source": [
    "arr4 = np.array(['1','2','3','4','5',1,2,3,4,5])\n",
    "print(arr4.dtype)"
   ]
  },
  {
   "cell_type": "code",
   "execution_count": 183,
   "id": "b608069c",
   "metadata": {},
   "outputs": [
    {
     "name": "stdout",
     "output_type": "stream",
     "text": [
      "int32 --> [1 2 3 4 5]\n",
      "int8 --> [1 2 3 4 5 1 2 3 4 5]\n",
      "float32 --> [1. 2. 3. 4. 5. 1. 2. 3. 4. 5.]\n"
     ]
    }
   ],
   "source": [
    "temp1 = np.array([1,2,3,4,5])\n",
    "print(temp1.dtype, '-->', temp1)\n",
    "\n",
    "temp2 = np.array(['1','2','3','4','5',1,2,3,4,5], dtype = np.int8)\n",
    "print(temp2.dtype, '-->', temp2)\n",
    "\n",
    "temp3 = np.array(['1','2','3','4','5',1,2,3,4,5], dtype = \"f\")\n",
    "print(temp3.dtype, '-->', temp3)"
   ]
  },
  {
   "cell_type": "code",
   "execution_count": 187,
   "id": "886dc4f1",
   "metadata": {},
   "outputs": [
    {
     "name": "stdout",
     "output_type": "stream",
     "text": [
      "int32 --> [10 20 30 40]\n",
      "float64 --> [10. 20. 30. 40.]\n",
      "int32 --> [10 20 30 40]\n"
     ]
    }
   ],
   "source": [
    "temp = np.array([10,20,30,40])\n",
    "print(temp.dtype, '-->', temp)\n",
    "\n",
    "new = np.float64(temp)\n",
    "print(new.dtype, '-->', new)\n",
    "\n",
    "new1 = np.int_(new)\n",
    "print(new1.dtype, '-->', new1)"
   ]
  },
  {
   "cell_type": "code",
   "execution_count": 191,
   "id": "f52bf3a4",
   "metadata": {},
   "outputs": [
    {
     "name": "stdout",
     "output_type": "stream",
     "text": [
      "x_old: int32 --> [10 20 30 40]\n",
      "x_new: float64 --> [10. 20. 30. 40.]\n"
     ]
    }
   ],
   "source": [
    "x_old = np.array([10,20,30,40])\n",
    "\n",
    "x_new = x_old.astype(float)\n",
    "\n",
    "print('x_old:', x_old.dtype, '-->', x_old)\n",
    "print('x_new:', x_new.dtype, '-->', x_new)"
   ]
  },
  {
   "cell_type": "markdown",
   "id": "76e4116b",
   "metadata": {},
   "source": [
    "# Arithmetic Operations in Numpy Array"
   ]
  },
  {
   "cell_type": "markdown",
   "id": "5d79caf5",
   "metadata": {},
   "source": [
    "## 1D Arrays"
   ]
  },
  {
   "cell_type": "code",
   "execution_count": 219,
   "id": "2aabc4b1",
   "metadata": {},
   "outputs": [
    {
     "name": "stdout",
     "output_type": "stream",
     "text": [
      "var + 3: [4 5 6 7]\n",
      "np.add: [4 5 6 7]\n"
     ]
    }
   ],
   "source": [
    "var = np.array([1,2,3,4])\n",
    "\n",
    "addition = var + 3\n",
    "print('var + 3:', addition)\n",
    "\n",
    "addition = np.add(var, 3)\n",
    "print('np.add:', addition)"
   ]
  },
  {
   "cell_type": "code",
   "execution_count": 212,
   "id": "ef95aa45",
   "metadata": {},
   "outputs": [
    {
     "name": "stdout",
     "output_type": "stream",
     "text": [
      "[-2 -1  0  1]\n"
     ]
    }
   ],
   "source": [
    "var = np.array([1,2,3,4])\n",
    "\n",
    "subtraction = var - 3\n",
    "print(subtraction)"
   ]
  },
  {
   "cell_type": "code",
   "execution_count": 213,
   "id": "83e60a70",
   "metadata": {},
   "outputs": [
    {
     "name": "stdout",
     "output_type": "stream",
     "text": [
      "[ 3  6  9 12]\n"
     ]
    }
   ],
   "source": [
    "var = np.array([1,2,3,4])\n",
    "\n",
    "multiplication = var * 3\n",
    "print(multiplication)"
   ]
  },
  {
   "cell_type": "code",
   "execution_count": 214,
   "id": "31231beb",
   "metadata": {},
   "outputs": [
    {
     "name": "stdout",
     "output_type": "stream",
     "text": [
      "[0.33333333 0.66666667 1.         1.33333333]\n"
     ]
    }
   ],
   "source": [
    "var = np.array([1,2,3,4])\n",
    "\n",
    "division = var / 3\n",
    "print(division)"
   ]
  },
  {
   "cell_type": "code",
   "execution_count": 216,
   "id": "14aa08aa",
   "metadata": {},
   "outputs": [
    {
     "name": "stdout",
     "output_type": "stream",
     "text": [
      "[1 2 0 1]\n"
     ]
    }
   ],
   "source": [
    "var = np.array([1,2,3,4])\n",
    "\n",
    "modulus = var % 3\n",
    "print(modulus)"
   ]
  },
  {
   "cell_type": "code",
   "execution_count": 221,
   "id": "833e1459",
   "metadata": {},
   "outputs": [
    {
     "name": "stdout",
     "output_type": "stream",
     "text": [
      "var1 + var2: [11 22 33 44]\n",
      "np.add(var1, var2): [11 22 33 44]\n"
     ]
    }
   ],
   "source": [
    "var1 = np.array([1,2,3,4])\n",
    "var2 = np.array([10,20,30,40])\n",
    "\n",
    "var_add = var1 + var2\n",
    "print('var1 + var2:', var_add)\n",
    "\n",
    "var_add = np.add(var1, var2)\n",
    "print('np.add(var1, var2):', var_add)"
   ]
  },
  {
   "cell_type": "code",
   "execution_count": 223,
   "id": "9617f405",
   "metadata": {},
   "outputs": [
    {
     "name": "stdout",
     "output_type": "stream",
     "text": [
      "[ 1  8 27 64]\n"
     ]
    }
   ],
   "source": [
    "var = np.array([1,2,3,4])\n",
    "\n",
    "power = np.power(var, 3)\n",
    "print(power)"
   ]
  },
  {
   "cell_type": "code",
   "execution_count": 229,
   "id": "cc3493f4",
   "metadata": {},
   "outputs": [
    {
     "name": "stdout",
     "output_type": "stream",
     "text": [
      "[1 0 0 0]\n"
     ]
    }
   ],
   "source": [
    "var = np.array([1,2,3,4])\n",
    "\n",
    "'''\n",
    "Note: For integer arguments with absolute value larger than 1,\n",
    "the result is always zero because of the way Python handles integer division.\n",
    "For integer zero the result is an overflow.\n",
    "'''\n",
    "reciprocal = np.reciprocal(var)\n",
    "print(reciprocal)"
   ]
  },
  {
   "cell_type": "code",
   "execution_count": 233,
   "id": "2d9b4e89",
   "metadata": {},
   "outputs": [
    {
     "name": "stdout",
     "output_type": "stream",
     "text": [
      "[0.1        0.05       0.03333333 0.025     ]\n"
     ]
    }
   ],
   "source": [
    "var = np.array([10.,20.,30.,40.])\n",
    "\n",
    "reciprocal = np.reciprocal(var)\n",
    "print(reciprocal)"
   ]
  },
  {
   "cell_type": "markdown",
   "id": "5be30754",
   "metadata": {},
   "source": [
    "## 2D Arrays"
   ]
  },
  {
   "cell_type": "code",
   "execution_count": 243,
   "id": "2f0390fd",
   "metadata": {},
   "outputs": [
    {
     "name": "stdout",
     "output_type": "stream",
     "text": [
      "add: \n",
      " [[ 2  4  6  8]\n",
      " [10 12 14 16]] \n",
      "\n",
      "subtract: \n",
      " [[0 0 0 0]\n",
      " [0 0 0 0]] \n",
      "\n",
      "multiply: \n",
      " [[ 1  4  9 16]\n",
      " [25 36 49 64]] \n",
      "\n",
      "reciprocal: \n",
      " [[1 0 0 0]\n",
      " [0 0 0 0]] \n",
      "\n"
     ]
    }
   ],
   "source": [
    "var2d1 = np.array([[1,2,3,4], [5,6,7,8]])\n",
    "var2d2 = np.array([[1,2,3,4], [5,6,7,8]])\n",
    "\n",
    "add = var2d1 + var2d2\n",
    "print('add:', '\\n', add, '\\n')\n",
    "\n",
    "subtract = np.subtract(var2d1, var2d2)\n",
    "print('subtract:', '\\n', subtract, '\\n')\n",
    "\n",
    "multiply = np.multiply(var2d1, var2d2)\n",
    "print('multiply:', '\\n', multiply, '\\n')"
   ]
  },
  {
   "cell_type": "code",
   "execution_count": 249,
   "id": "ce25c0f6",
   "metadata": {},
   "outputs": [
    {
     "name": "stdout",
     "output_type": "stream",
     "text": [
      "reciprocal var2d1: \n",
      " [[1.         0.5        0.33333333 0.25      ]\n",
      " [0.2        0.16666667 0.14285714 0.125     ]] \n",
      "\n",
      "reciprocal var2d2: \n",
      " [[0.11111111 0.1        0.09090909 0.08333333]\n",
      " [0.07692308 0.07142857 0.06666667 0.0625    ]] \n",
      "\n"
     ]
    }
   ],
   "source": [
    "var2d1 = np.array([[1.,2.,3.,4.], [5.,6.,7.,8.]])\n",
    "var2d2 = np.array([[9.,10.,11.,12.], [13.,14.,15.,16.]])\n",
    "\n",
    "reciprocal = np.reciprocal(var2d1)\n",
    "print('reciprocal var2d1:', '\\n', reciprocal, '\\n')\n",
    "\n",
    "reciprocal = np.reciprocal(var2d2)\n",
    "print('reciprocal var2d2:', '\\n', reciprocal, '\\n')"
   ]
  },
  {
   "cell_type": "markdown",
   "id": "48b904e0",
   "metadata": {},
   "source": [
    "# Arithmetic Functions in Numpy"
   ]
  },
  {
   "cell_type": "code",
   "execution_count": 256,
   "id": "eca8ce6f",
   "metadata": {},
   "outputs": [
    {
     "name": "stdout",
     "output_type": "stream",
     "text": [
      "min:  \n",
      " 1 10 \n",
      "\n",
      "max:  \n",
      " 50 4 \n",
      "\n",
      "sqrt:  \n",
      " [2.23606798 2.         4.47213595 1.73205081 7.07106781 6.\n",
      " 5.         3.16227766 1.41421356 5.47722558 1.         6.32455532] \n",
      "\n"
     ]
    }
   ],
   "source": [
    "var = np.array([5,4,20,3,50,36,25,10,2,30,1,40])\n",
    "\n",
    "print('min: ', '\\n', np.min(var), np.argmin(var), '\\n') # argmin returns index of the minimum element\n",
    "print('max: ', '\\n', np.max(var), np.argmax(var), '\\n') # argmax returns index of the maximum element\n",
    "print('sqrt: ', '\\n', np.sqrt(var), '\\n')"
   ]
  },
  {
   "cell_type": "code",
   "execution_count": 261,
   "id": "e47de1c2",
   "metadata": {},
   "outputs": [
    {
     "name": "stdout",
     "output_type": "stream",
     "text": [
      "Min element through axis=0 (Column wise): \n",
      " [ 5  4  2  3  1 36] \n",
      "\n",
      "Min element through axis=1 (Row wise): \n",
      " [3 1] \n",
      "\n"
     ]
    }
   ],
   "source": [
    "var1 = np.array([[5,4,20,3,50,36],[25,10,2,30,1,40]])\n",
    "\n",
    "print('Min element through axis=0 (Column wise):', '\\n', np.min(var1, axis=0), '\\n', )\n",
    "print('Min element through axis=1 (Row wise):', '\\n', np.min(var1, axis=1), '\\n', )"
   ]
  },
  {
   "cell_type": "code",
   "execution_count": 263,
   "id": "8c33f61d",
   "metadata": {},
   "outputs": [
    {
     "name": "stdout",
     "output_type": "stream",
     "text": [
      "sin: [ 0.90929743 -0.7568025  -0.2794155   0.98935825]\n",
      "cos: [-0.41614684 -0.65364362  0.96017029 -0.14550003]\n"
     ]
    }
   ],
   "source": [
    "var2 = np.array([2,4,6,8])\n",
    "\n",
    "print('sin:', np.sin(var2))\n",
    "print('cos:', np.cos(var2))"
   ]
  },
  {
   "cell_type": "code",
   "execution_count": 267,
   "id": "59251e8b",
   "metadata": {},
   "outputs": [
    {
     "name": "stdout",
     "output_type": "stream",
     "text": [
      "cumsum: [10 14 54 59]\n"
     ]
    }
   ],
   "source": [
    "var3 = np.array([10,4,40,5])\n",
    "\n",
    "print('cumsum:', np.cumsum(var3))"
   ]
  },
  {
   "cell_type": "code",
   "execution_count": null,
   "id": "bb7efe63",
   "metadata": {},
   "outputs": [],
   "source": []
  }
 ],
 "metadata": {
  "kernelspec": {
   "display_name": "Python 3 (ipykernel)",
   "language": "python",
   "name": "python3"
  },
  "language_info": {
   "codemirror_mode": {
    "name": "ipython",
    "version": 3
   },
   "file_extension": ".py",
   "mimetype": "text/x-python",
   "name": "python",
   "nbconvert_exporter": "python",
   "pygments_lexer": "ipython3",
   "version": "3.11.4"
  }
 },
 "nbformat": 4,
 "nbformat_minor": 5
}
